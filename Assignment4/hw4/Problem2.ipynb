{
  "nbformat": 4,
  "nbformat_minor": 0,
  "metadata": {
    "colab": {
      "provenance": [],
      "gpuType": "T4"
    },
    "kernelspec": {
      "name": "python3",
      "display_name": "Python 3"
    },
    "language_info": {
      "name": "python"
    },
    "accelerator": "GPU"
  },
  "cells": [
    {
      "cell_type": "code",
      "execution_count": 2,
      "metadata": {
        "colab": {
          "base_uri": "https://localhost:8080/"
        },
        "id": "4qwFTFWCJP8d",
        "outputId": "c5f6736a-e950-4e6e-b24c-a1ee85dacdea"
      },
      "outputs": [
        {
          "output_type": "stream",
          "name": "stdout",
          "text": [
            "Mounted at /content/drive\n"
          ]
        }
      ],
      "source": [
        "from google.colab import drive\n",
        "drive.mount('/content/drive')"
      ]
    },
    {
      "cell_type": "code",
      "source": [
        "%cd /content/drive/MyDrive/RML/HW4"
      ],
      "metadata": {
        "colab": {
          "base_uri": "https://localhost:8080/"
        },
        "id": "75focj0TbDY4",
        "outputId": "4428ce1b-a0a1-49ac-cd73-f81a9a5ed3a1"
      },
      "execution_count": 4,
      "outputs": [
        {
          "output_type": "stream",
          "name": "stdout",
          "text": [
            "/content/drive/MyDrive/RML/HW4\n"
          ]
        }
      ]
    },
    {
      "cell_type": "code",
      "execution_count": 5,
      "metadata": {
        "colab": {
          "base_uri": "https://localhost:8080/",
          "height": 36
        },
        "id": "mRsuLLqHKlKr",
        "outputId": "eb4f63af-d20d-4b06-908a-66bdc1f214cb"
      },
      "outputs": [
        {
          "output_type": "execute_result",
          "data": {
            "text/plain": [
              "'/content/drive/MyDrive/RML/HW4'"
            ],
            "application/vnd.google.colaboratory.intrinsic+json": {
              "type": "string"
            }
          },
          "metadata": {},
          "execution_count": 5
        }
      ],
      "source": [
        "pwd"
      ]
    },
    {
      "cell_type": "code",
      "execution_count": 6,
      "metadata": {
        "id": "7vKwjyK7Vd1e",
        "colab": {
          "base_uri": "https://localhost:8080/"
        },
        "outputId": "860396c4-c234-447f-80ed-3361d8f4230e"
      },
      "outputs": [
        {
          "output_type": "stream",
          "name": "stdout",
          "text": [
            "  Preparing metadata (setup.py) ... \u001b[?25l\u001b[?25hdone\n",
            "\u001b[2K     \u001b[90m━━━━━━━━━━━━━━━━━━━━━━━━━━━━━━━━━━━━━━━━\u001b[0m \u001b[32m800.3/800.3 kB\u001b[0m \u001b[31m12.2 MB/s\u001b[0m eta \u001b[36m0:00:00\u001b[0m\n",
            "\u001b[2K     \u001b[90m━━━━━━━━━━━━━━━━━━━━━━━━━━━━━━━━━━━━━━━━\u001b[0m \u001b[32m840.2/840.2 kB\u001b[0m \u001b[31m39.3 MB/s\u001b[0m eta \u001b[36m0:00:00\u001b[0m\n",
            "\u001b[?25h  Building wheel for ectutorial (setup.py) ... \u001b[?25l\u001b[?25hdone\n"
          ]
        }
      ],
      "source": [
        "! pip install git+https://github.com/airi-industrial-ai/ec23-tutorial -q"
      ]
    },
    {
      "cell_type": "code",
      "source": [
        "from sklearn.ensemble import RandomForestClassifier\n",
        "from sklearn.metrics import roc_auc_score\n",
        "from matplotlib import pyplot as plt\n",
        "from ectutorial.mnist_utils import *\n",
        "import numpy as np\n",
        "import random\n",
        "\n",
        "import torch\n",
        "import torch.nn as nn\n",
        "import torch.optim as optim\n",
        "from torchvision import datasets, transforms\n",
        "import torchvision.transforms.functional as TF\n",
        "from torch.utils.data import DataLoader, Dataset, ConcatDataset"
      ],
      "metadata": {
        "id": "z9rjqQT3VpVi"
      },
      "execution_count": 7,
      "outputs": []
    },
    {
      "cell_type": "markdown",
      "source": [
        "# Task 1"
      ],
      "metadata": {
        "id": "sL1WVk47JV3V"
      }
    },
    {
      "cell_type": "markdown",
      "source": [
        "## Generalized to 10 classes"
      ],
      "metadata": {
        "id": "6pTBwN9-zcyS"
      }
    },
    {
      "cell_type": "code",
      "source": [
        "# download MNIST training and testing datasets, then prepare corresponding dataloaders (batch size = 100)\n",
        "# download MNIST training and testing datasets, then prepare corresponding dataloaders (batch size = 100)\n",
        "mnist_train = datasets.MNIST(\"../data\", train=True, download=True, transform=transforms.ToTensor())\n",
        "mnist_test = datasets.MNIST(\"../data\", train=False, download=True, transform=transforms.ToTensor())\n",
        "train_loader = DataLoader(mnist_train, batch_size = 100, shuffle=True)\n",
        "test_loader = DataLoader(mnist_test, batch_size = 100, shuffle=False)"
      ],
      "metadata": {
        "id": "4oX2ABi9zcWq",
        "colab": {
          "base_uri": "https://localhost:8080/"
        },
        "outputId": "715fac3a-b177-4b72-96a7-fae30de1d021"
      },
      "execution_count": 8,
      "outputs": [
        {
          "output_type": "stream",
          "name": "stdout",
          "text": [
            "Downloading http://yann.lecun.com/exdb/mnist/train-images-idx3-ubyte.gz\n",
            "Downloading http://yann.lecun.com/exdb/mnist/train-images-idx3-ubyte.gz to ../data/MNIST/raw/train-images-idx3-ubyte.gz\n"
          ]
        },
        {
          "output_type": "stream",
          "name": "stderr",
          "text": [
            "100%|██████████| 9912422/9912422 [00:00<00:00, 157636614.46it/s]\n"
          ]
        },
        {
          "output_type": "stream",
          "name": "stdout",
          "text": [
            "Extracting ../data/MNIST/raw/train-images-idx3-ubyte.gz to ../data/MNIST/raw\n",
            "\n",
            "Downloading http://yann.lecun.com/exdb/mnist/train-labels-idx1-ubyte.gz\n",
            "Downloading http://yann.lecun.com/exdb/mnist/train-labels-idx1-ubyte.gz to ../data/MNIST/raw/train-labels-idx1-ubyte.gz\n"
          ]
        },
        {
          "output_type": "stream",
          "name": "stderr",
          "text": [
            "100%|██████████| 28881/28881 [00:00<00:00, 5227675.38it/s]\n"
          ]
        },
        {
          "output_type": "stream",
          "name": "stdout",
          "text": [
            "Extracting ../data/MNIST/raw/train-labels-idx1-ubyte.gz to ../data/MNIST/raw\n",
            "\n",
            "Downloading http://yann.lecun.com/exdb/mnist/t10k-images-idx3-ubyte.gz\n",
            "Downloading http://yann.lecun.com/exdb/mnist/t10k-images-idx3-ubyte.gz to ../data/MNIST/raw/t10k-images-idx3-ubyte.gz\n"
          ]
        },
        {
          "output_type": "stream",
          "name": "stderr",
          "text": [
            "100%|██████████| 1648877/1648877 [00:00<00:00, 93183478.36it/s]"
          ]
        },
        {
          "output_type": "stream",
          "name": "stdout",
          "text": [
            "Extracting ../data/MNIST/raw/t10k-images-idx3-ubyte.gz to ../data/MNIST/raw\n"
          ]
        },
        {
          "output_type": "stream",
          "name": "stderr",
          "text": [
            "\n"
          ]
        },
        {
          "output_type": "stream",
          "name": "stdout",
          "text": [
            "\n",
            "Downloading http://yann.lecun.com/exdb/mnist/t10k-labels-idx1-ubyte.gz\n",
            "Downloading http://yann.lecun.com/exdb/mnist/t10k-labels-idx1-ubyte.gz to ../data/MNIST/raw/t10k-labels-idx1-ubyte.gz\n"
          ]
        },
        {
          "output_type": "stream",
          "name": "stderr",
          "text": [
            "100%|██████████| 4542/4542 [00:00<00:00, 24708857.03it/s]\n"
          ]
        },
        {
          "output_type": "stream",
          "name": "stdout",
          "text": [
            "Extracting ../data/MNIST/raw/t10k-labels-idx1-ubyte.gz to ../data/MNIST/raw\n",
            "\n"
          ]
        }
      ]
    },
    {
      "cell_type": "code",
      "source": [
        "device = torch.device(\"cuda:0\" if torch.cuda.is_available() else \"cpu\")"
      ],
      "metadata": {
        "id": "mA3XajUX3qcJ"
      },
      "execution_count": 9,
      "outputs": []
    },
    {
      "cell_type": "markdown",
      "source": [
        "## Helper function"
      ],
      "metadata": {
        "id": "5bUVo0VfC6hn"
      }
    },
    {
      "cell_type": "code",
      "source": [
        "def gen_colored(image):\n",
        "    channeled = image.reshape(28, 28, 1)\n",
        "    weights = [round(i * 0.1, 1) for i in range(1, 11)]\n",
        "    colors = ['red', 'green', 'blue']\n",
        "\n",
        "    # Randomly pick a color\n",
        "    color = random.choice(colors)\n",
        "    weight = weights[colors.index(color)]\n",
        "\n",
        "    # Apply the weight to the grayscale intensity\n",
        "    colored_image = channeled * weight\n",
        "\n",
        "    return colored_image.reshape(1,28,28)"
      ],
      "metadata": {
        "id": "-CaFuhvvC6H_"
      },
      "execution_count": 10,
      "outputs": []
    },
    {
      "cell_type": "code",
      "source": [
        "rr = torchvision.transforms.RandomResizedCrop((28, 28))"
      ],
      "metadata": {
        "id": "aR068eDS9_4_"
      },
      "execution_count": 11,
      "outputs": []
    },
    {
      "cell_type": "code",
      "source": [
        "# Initialize the new datasets\n",
        "colored_MNIST = []\n",
        "grayscaled_MNIST = []\n",
        "rotated_MNIST = []\n",
        "\n",
        "# Iterate over the test dataset\n",
        "for i in range(len(mnist_test)):\n",
        "    image, _ = mnist_test[i]\n",
        "    image_np = image.numpy()\n",
        "\n",
        "    # Generate colored images\n",
        "    #gs, red, green, blue = gen_colored(image_np)\n",
        "    colored_image = gen_colored(image_np)\n",
        "    colored_MNIST.append(colored_image)\n",
        "\n",
        "    # Generate grayscaled images\n",
        "    grayscaled_image = weighted_grayscale(image_np, random.choice([0, 1, 2]))\n",
        "    grayscaled_MNIST.append(grayscaled_image)\n",
        "\n",
        "    # Generate rotated images\n",
        "    rotated_image = rr(image).numpy()\n",
        "    rotated_MNIST.append(rotated_image)\n",
        "\n",
        "# Convert to numpy arrays\n",
        "colored_MNIST = np.array(colored_MNIST)\n",
        "grayscaled_MNIST = np.array(grayscaled_MNIST)\n",
        "rotated_MNIST = np.array(rotated_MNIST)"
      ],
      "metadata": {
        "id": "xdQaYdDl1DW0",
        "colab": {
          "base_uri": "https://localhost:8080/"
        },
        "outputId": "0e5c23aa-613f-4237-8200-3d3ec6f1b409"
      },
      "execution_count": 12,
      "outputs": [
        {
          "output_type": "stream",
          "name": "stderr",
          "text": [
            "/usr/local/lib/python3.10/dist-packages/torchvision/transforms/functional.py:1603: UserWarning: The default value of the antialias parameter of all the resizing transforms (Resize(), RandomResizedCrop(), etc.) will change from None to True in v0.17, in order to be consistent across the PIL and Tensor backends. To suppress this warning, directly pass antialias=True (recommended, future default), antialias=None (current default, which means False for Tensors and True for PIL), or antialias=False (only works on Tensors - PIL will still use antialiasing). This also applies if you are using the inference transforms from the models weights: update the call to weights.transforms(antialias=True).\n",
            "  warnings.warn(\n"
          ]
        }
      ]
    },
    {
      "cell_type": "code",
      "source": [
        "# Define a new dataset class\n",
        "class TransformedMNIST(Dataset):\n",
        "    def __init__(self, images, labels):\n",
        "        self.images = images\n",
        "        self.labels = labels\n",
        "\n",
        "    def __len__(self):\n",
        "        return len(self.images)\n",
        "\n",
        "    def __getitem__(self, idx):\n",
        "        return self.images[idx], self.labels[idx]\n",
        "\n",
        "# Get the labels from the original test set\n",
        "labels = mnist_test.targets.numpy()\n",
        "\n",
        "# Create new datasets\n",
        "colored_MNIST_dataset = TransformedMNIST(colored_MNIST, labels)\n",
        "grayscaled_MNIST_dataset = TransformedMNIST(grayscaled_MNIST, labels)\n",
        "rotated_MNIST_dataset = TransformedMNIST(rotated_MNIST, labels)"
      ],
      "metadata": {
        "id": "5xQ09DqG2u-O"
      },
      "execution_count": 13,
      "outputs": []
    },
    {
      "cell_type": "code",
      "source": [
        "# Print the number of examples in each dataset\n",
        "print(f\"Number of examples in colored_MNIST_dataset: {len(colored_MNIST_dataset)}\")\n",
        "print(f\"Number of examples in grayscaled_MNIST_dataset: {len(grayscaled_MNIST_dataset)}\")\n",
        "print(f\"Number of examples in rotated_MNIST_dataset: {len(rotated_MNIST_dataset)}\")"
      ],
      "metadata": {
        "colab": {
          "base_uri": "https://localhost:8080/"
        },
        "id": "PbX3dkRd4Ci4",
        "outputId": "667b35c7-3464-40b9-eedb-518362411c1f"
      },
      "execution_count": 14,
      "outputs": [
        {
          "output_type": "stream",
          "name": "stdout",
          "text": [
            "Number of examples in colored_MNIST_dataset: 10000\n",
            "Number of examples in grayscaled_MNIST_dataset: 10000\n",
            "Number of examples in rotated_MNIST_dataset: 10000\n"
          ]
        }
      ]
    },
    {
      "cell_type": "code",
      "source": [
        "color_test_loader = DataLoader(colored_MNIST_dataset, batch_size = 100, shuffle=False)\n",
        "grey_test_loader = DataLoader(grayscaled_MNIST_dataset, batch_size = 100, shuffle=False)\n",
        "rotated_test_loader = DataLoader(rotated_MNIST_dataset, batch_size = 100, shuffle=False)"
      ],
      "metadata": {
        "id": "ARFJn4m48qFH"
      },
      "execution_count": 15,
      "outputs": []
    },
    {
      "cell_type": "markdown",
      "source": [
        "# Task 2"
      ],
      "metadata": {
        "id": "L_KTHc2KJXrK"
      }
    },
    {
      "cell_type": "markdown",
      "source": [
        "### Define the NN model (taken from Assignment 2)"
      ],
      "metadata": {
        "id": "lr7WI-HL3EzJ"
      }
    },
    {
      "cell_type": "code",
      "source": [
        "# initialize the CNN architecture with 4 convolutional layers and 2 MLP layers for standard training\n",
        "torch.manual_seed(0)\n",
        "\n",
        "class Flatten(nn.Module):\n",
        "    def forward(self, x):\n",
        "        return x.view(x.shape[0], -1)"
      ],
      "metadata": {
        "id": "nqRU84Fy3Ej6"
      },
      "execution_count": 16,
      "outputs": []
    },
    {
      "cell_type": "code",
      "source": [
        "def epoch(loader, model, opt=None):\n",
        "  \"\"\"Standard training/evaluation epoch over the dataset\"\"\"\n",
        "  criterion = nn.CrossEntropyLoss()\n",
        "  total_loss = 0.0\n",
        "  correct = 0\n",
        "  total_samples = 0\n",
        "\n",
        "  if opt:\n",
        "    model.train()\n",
        "  else:\n",
        "    model.eval()\n",
        "\n",
        "  for X,y in loader:\n",
        "    X = X.to(device)\n",
        "    # Check if y is an integer and convert to tensor if it is\n",
        "    if isinstance(y, int):\n",
        "        y = torch.tensor(y).to(device)\n",
        "    else:\n",
        "        y = y.to(device)\n",
        "    y_pred = model(X)\n",
        "    loss = criterion(y_pred, y)\n",
        "    if opt:\n",
        "      opt.zero_grad()\n",
        "      loss.backward()\n",
        "      opt.step()\n",
        "\n",
        "    total_loss += loss.item()\n",
        "    _, predicted = y_pred.max(1)\n",
        "    correct += predicted.eq(y).sum().item()\n",
        "    total_samples += y.size(0)\n",
        "\n",
        "  total_error = 1- (correct / total_samples)\n",
        "  average_loss = total_loss / len(loader)\n",
        "\n",
        "  return total_error, average_loss\n"
      ],
      "metadata": {
        "id": "Pb4ObbZB61Tk"
      },
      "execution_count": 17,
      "outputs": []
    },
    {
      "cell_type": "code",
      "source": [
        "%%time\n",
        "# Initialize the results\n",
        "results = {name: [] for name in ['original', 'colored', 'grayscaled', 'rotated']}\n",
        "\n",
        "# Repeat the experiment 3 times\n",
        "for i in range(3):\n",
        "    model_cnn = nn.Sequential(nn.Conv2d(1, 32, 3, padding=1), nn.ReLU(),\n",
        "                          nn.Conv2d(32, 32, 3, padding=1, stride=2), nn.ReLU(),\n",
        "                          nn.Conv2d(32, 64, 3, padding=1), nn.ReLU(),\n",
        "                          nn.Conv2d(64, 64, 3, padding=1, stride=2), nn.ReLU(),\n",
        "                          Flatten(),\n",
        "                          nn.Linear(7*7*64, 100), nn.ReLU(),\n",
        "                          nn.Linear(100, 10)).to(device)\n",
        "\n",
        "    model_cnn.to(device)\n",
        "    opt = optim.SGD(model_cnn.parameters(), lr=0.1)\n",
        "    # standard training for 30 epochs\n",
        "    for t in range(30):\n",
        "        train_err, train_loss = epoch(train_loader, model_cnn, opt)\n",
        "    print(f\"Post training iteration {i}, Train Accuracy: {1-train_err:.6f}\")\n",
        "\n",
        "    # Evaluate the model on each dataset\n",
        "    for dataset, name in zip([test_loader, color_test_loader, grey_test_loader, rotated_test_loader], ['original', 'colored', 'grayscaled', 'rotated']):\n",
        "        test_err, test_loss = epoch(dataset, model_cnn)\n",
        "        print(f\"{name} dataset Test Accuracy on iteration {i}: {1-test_err:.6f}\")\n",
        "        results[name].append(1 - test_err)\n",
        "    print(\"\\n\")"
      ],
      "metadata": {
        "colab": {
          "base_uri": "https://localhost:8080/"
        },
        "id": "aTCdoTjU4-Fv",
        "outputId": "7bf0642c-a94e-4191-b9c6-408372a74acd"
      },
      "execution_count": 18,
      "outputs": [
        {
          "output_type": "stream",
          "name": "stdout",
          "text": [
            "Post training iteration 0, Train Accuracy: 1.000000\n",
            "original dataset Test Accuracy on iteration 0: 0.990300\n",
            "colored dataset Test Accuracy on iteration 0: 0.982200\n",
            "grayscaled dataset Test Accuracy on iteration 0: 0.097400\n",
            "rotated dataset Test Accuracy on iteration 0: 0.459500\n",
            "\n",
            "\n",
            "Post training iteration 1, Train Accuracy: 0.999317\n",
            "original dataset Test Accuracy on iteration 1: 0.987100\n",
            "colored dataset Test Accuracy on iteration 1: 0.985700\n",
            "grayscaled dataset Test Accuracy on iteration 1: 0.097400\n",
            "rotated dataset Test Accuracy on iteration 1: 0.454000\n",
            "\n",
            "\n",
            "Post training iteration 2, Train Accuracy: 1.000000\n",
            "original dataset Test Accuracy on iteration 2: 0.989800\n",
            "colored dataset Test Accuracy on iteration 2: 0.985600\n",
            "grayscaled dataset Test Accuracy on iteration 2: 0.097400\n",
            "rotated dataset Test Accuracy on iteration 2: 0.457500\n",
            "\n",
            "\n",
            "CPU times: user 15min 4s, sys: 4.95 s, total: 15min 9s\n",
            "Wall time: 15min 20s\n"
          ]
        }
      ]
    },
    {
      "cell_type": "code",
      "source": [
        "# Calculate the mean accuracy and standard deviation for each dataset\n",
        "for name in ['original', 'colored', 'grayscaled', 'rotated']:\n",
        "    mean_accuracy = np.mean(results[name])\n",
        "    std_dev = np.std(results[name])\n",
        "    print(f\"{name} test dataset Mean accuracy: {mean_accuracy:.6f}\")\n",
        "    print(f\"{name} test datasetStandard deviation: {std_dev:.6f}\")\n",
        "    print(\"\\n\")"
      ],
      "metadata": {
        "colab": {
          "base_uri": "https://localhost:8080/"
        },
        "id": "R5TFYoaXBxDw",
        "outputId": "b58bb2dc-e853-4053-d892-b6e0b506939a"
      },
      "execution_count": 19,
      "outputs": [
        {
          "output_type": "stream",
          "name": "stdout",
          "text": [
            "original test dataset Mean accuracy: 0.989067\n",
            "original test datasetStandard deviation: 0.001406\n",
            "\n",
            "\n",
            "colored test dataset Mean accuracy: 0.984500\n",
            "colored test datasetStandard deviation: 0.001627\n",
            "\n",
            "\n",
            "grayscaled test dataset Mean accuracy: 0.097400\n",
            "grayscaled test datasetStandard deviation: 0.000000\n",
            "\n",
            "\n",
            "rotated test dataset Mean accuracy: 0.457000\n",
            "rotated test datasetStandard deviation: 0.002273\n",
            "\n",
            "\n"
          ]
        }
      ]
    },
    {
      "cell_type": "markdown",
      "source": [
        "# Task 3"
      ],
      "metadata": {
        "id": "SC8-lMO_JcLQ"
      }
    },
    {
      "cell_type": "markdown",
      "source": [
        "### Please find the assciated text in the attached PDF"
      ],
      "metadata": {
        "id": "6rEj0ShGEA_O"
      }
    },
    {
      "cell_type": "markdown",
      "source": [
        "# Task 4"
      ],
      "metadata": {
        "id": "CPsfJ0KRJe2L"
      }
    },
    {
      "cell_type": "markdown",
      "source": [
        "## Augmentation functions for Augmix\n",
        "We have used the functions from the Augmix library and changed them to be able to augment 1D MNIST tensors (https://github.com/google-research/augmix/tree/master)"
      ],
      "metadata": {
        "id": "I1F8Snfh3rL2"
      }
    },
    {
      "cell_type": "code",
      "source": [
        "from PIL import Image, ImageOps, ImageEnhance\n",
        "\n",
        "# ImageNet code should change this value\n",
        "IMAGE_SIZE = 32\n",
        "\n",
        "\n",
        "def int_parameter(level, maxval):\n",
        "  \"\"\"Helper function to scale `val` between 0 and maxval .\n",
        "\n",
        "  Args:\n",
        "    level: Level of the operation that will be between [0, `PARAMETER_MAX`].\n",
        "    maxval: Maximum value that the operation can have. This will be scaled to\n",
        "      level/PARAMETER_MAX.\n",
        "\n",
        "  Returns:\n",
        "    An int that results from scaling `maxval` according to `level`.\n",
        "  \"\"\"\n",
        "  return int(level * maxval / 10)\n",
        "\n",
        "\n",
        "def float_parameter(level, maxval):\n",
        "  \"\"\"Helper function to scale `val` between 0 and maxval.\n",
        "\n",
        "  Args:\n",
        "    level: Level of the operation that will be between [0, `PARAMETER_MAX`].\n",
        "    maxval: Maximum value that the operation can have. This will be scaled to\n",
        "      level/PARAMETER_MAX.\n",
        "\n",
        "  Returns:\n",
        "    A float that results from scaling `maxval` according to `level`.\n",
        "  \"\"\"\n",
        "  return float(level) * maxval / 10.\n",
        "\n",
        "\n",
        "def sample_level(n):\n",
        "  return np.random.uniform(low=0.1, high=n)\n",
        "\n",
        "\n",
        "def autocontrast(pil_img, _):\n",
        "  return ImageOps.autocontrast(pil_img)\n",
        "\n",
        "\n",
        "def equalize(pil_img, _):\n",
        "  return ImageOps.equalize(pil_img)\n",
        "\n",
        "\n",
        "def posterize(pil_img, level):\n",
        "  level = int_parameter(sample_level(level), 4)\n",
        "  return ImageOps.posterize(pil_img, 4 - level)\n",
        "\n",
        "\n",
        "def rotate(pil_img, level):\n",
        "  degrees = int_parameter(sample_level(level), 30)\n",
        "  if np.random.uniform() > 0.5:\n",
        "    degrees = -degrees\n",
        "  return pil_img.rotate(degrees, resample=Image.BILINEAR)\n",
        "\n",
        "\n",
        "def solarize(pil_img, level):\n",
        "  level = int_parameter(sample_level(level), 256)\n",
        "  return ImageOps.solarize(pil_img, 256 - level)\n",
        "\n",
        "\n",
        "def shear_x(pil_img, level):\n",
        "  level = float_parameter(sample_level(level), 0.3)\n",
        "  if np.random.uniform() > 0.5:\n",
        "    level = -level\n",
        "  return pil_img.transform((IMAGE_SIZE, IMAGE_SIZE),\n",
        "                           Image.AFFINE, (1, level, 0, 0, 1, 0),\n",
        "                           resample=Image.BILINEAR)\n",
        "\n",
        "\n",
        "def shear_y(pil_img, level):\n",
        "  level = float_parameter(sample_level(level), 0.3)\n",
        "  if np.random.uniform() > 0.5:\n",
        "    level = -level\n",
        "  return pil_img.transform((IMAGE_SIZE, IMAGE_SIZE),\n",
        "                           Image.AFFINE, (1, 0, 0, level, 1, 0),\n",
        "                           resample=Image.BILINEAR)\n",
        "\n",
        "\n",
        "def translate_x(pil_img, level):\n",
        "  level = int_parameter(sample_level(level), IMAGE_SIZE / 3)\n",
        "  if np.random.random() > 0.5:\n",
        "    level = -level\n",
        "  return pil_img.transform((IMAGE_SIZE, IMAGE_SIZE),\n",
        "                           Image.AFFINE, (1, 0, level, 0, 1, 0),\n",
        "                           resample=Image.BILINEAR)\n",
        "\n",
        "\n",
        "def translate_y(pil_img, level):\n",
        "  level = int_parameter(sample_level(level), IMAGE_SIZE / 3)\n",
        "  if np.random.random() > 0.5:\n",
        "    level = -level\n",
        "  return pil_img.transform((IMAGE_SIZE, IMAGE_SIZE),\n",
        "                           Image.AFFINE, (1, 0, 0, 0, 1, level),\n",
        "                           resample=Image.BILINEAR)\n",
        "\n",
        "\n",
        "# operation that overlaps with ImageNet-C's test set\n",
        "def color(pil_img, level):\n",
        "    level = float_parameter(sample_level(level), 1.8) + 0.1\n",
        "    return ImageEnhance.Color(pil_img).enhance(level)\n",
        "\n",
        "\n",
        "# operation that overlaps with ImageNet-C's test set\n",
        "def contrast(pil_img, level):\n",
        "    level = float_parameter(sample_level(level), 1.8) + 0.1\n",
        "    return ImageEnhance.Contrast(pil_img).enhance(level)\n",
        "\n",
        "\n",
        "# operation that overlaps with ImageNet-C's test set\n",
        "def brightness(pil_img, level):\n",
        "    level = float_parameter(sample_level(level), 1.8) + 0.1\n",
        "    return ImageEnhance.Brightness(pil_img).enhance(level)\n",
        "\n",
        "\n",
        "# operation that overlaps with ImageNet-C's test set\n",
        "def sharpness(pil_img, level):\n",
        "    level = float_parameter(sample_level(level), 1.8) + 0.1\n",
        "    return ImageEnhance.Sharpness(pil_img).enhance(level)\n",
        "\n",
        "\n",
        "augmentations = [\n",
        "    autocontrast, equalize, posterize, rotate, solarize, shear_x, shear_y,\n",
        "    translate_x, translate_y\n",
        "]\n",
        "\n",
        "augmentations_all = [\n",
        "    autocontrast, equalize, posterize, rotate, solarize, shear_x, shear_y,\n",
        "    translate_x, translate_y, color, contrast, brightness, sharpness\n",
        "]"
      ],
      "metadata": {
        "id": "Ab7UZe253jMp"
      },
      "execution_count": 20,
      "outputs": []
    },
    {
      "cell_type": "code",
      "source": [
        "def normalize(tensor):\n",
        "    \"\"\"Normalize input tensor channel-wise to zero mean and unit variance.\"\"\"\n",
        "    tensor = tensor.clone().detach()\n",
        "    mean, std = torch.tensor(0.1307), torch.tensor(0.3081)\n",
        "    tensor = (tensor - mean) / std\n",
        "    return tensor\n",
        "\n",
        "def apply_op(tensor, op, severity):\n",
        "    \"\"\"Apply an augmentation operation to a tensor.\"\"\"\n",
        "    tensor = tensor.clone().detach()\n",
        "    tensor = tensor.mul(255).byte()  # Convert to 8-bit for PIL\n",
        "    pil_img = TF.to_pil_image(tensor)  # Convert to PIL.Image\n",
        "    pil_img = op(pil_img, severity)\n",
        "    tensor = TF.to_tensor(pil_img)  # Convert back to tensor\n",
        "    return tensor\n",
        "\n",
        "def augment_and_mix(image, seed, severity=3, width=3, depth=-1, alpha=1.):\n",
        "    \"\"\"Perform AugMix augmentations and compute mixture.\n",
        "\n",
        "    Args:\n",
        "        image: Raw input image as PyTorch tensor of shape (c, h, w)\n",
        "        severity: Severity of underlying augmentation operators (between 1 to 10).\n",
        "        width: Width of augmentation chain\n",
        "        depth: Depth of augmentation chain. -1 enables stochastic depth uniformly\n",
        "          from [1, 3]\n",
        "        alpha: Probability coefficient for Beta and Dirichlet distributions.\n",
        "        seed: Seed for the random number generator.\n",
        "\n",
        "    Returns:\n",
        "        mixed: Augmented and mixed image.\n",
        "    ## Used the default parameters in this implementation\n",
        "    \"\"\"\n",
        "    np.random.seed(seed)\n",
        "    torch.manual_seed(seed)\n",
        "\n",
        "    ws = torch.tensor(np.random.dirichlet([alpha] * width))\n",
        "    m = torch.tensor(np.random.beta(alpha, alpha))\n",
        "\n",
        "    mix = torch.zeros_like(image)\n",
        "    for i in range(width):\n",
        "        image_aug = image.clone()\n",
        "        d = depth if depth > 0 else np.random.randint(1, 4)\n",
        "        for _ in range(d):\n",
        "            op = np.random.choice(augmentations_all)\n",
        "            image_aug = apply_op(image_aug, op, severity)\n",
        "        image_aug = TF.resize(image_aug, [28, 28])  # Resize back to 28x28\n",
        "        mix += ws[i] * normalize(image_aug)\n",
        "\n",
        "    mixed = (1 - m) * normalize(image) + m * mix\n",
        "    return mixed"
      ],
      "metadata": {
        "id": "akJhOZZh0Abe"
      },
      "execution_count": 21,
      "outputs": []
    },
    {
      "cell_type": "code",
      "source": [
        "%%time\n",
        "# Initialize an empty list to hold the augmented data\n",
        "augmented_data = []\n",
        "\n",
        "# Apply augment_and_mix to each image in the dataset\n",
        "for i,data in enumerate(mnist_train):\n",
        "    image, label = data\n",
        "    augmented_image = augment_and_mix(image,seed=i)\n",
        "    augmented_data.append((augmented_image, label))\n",
        "\n",
        "augmented_dataloader = DataLoader(augmented_data, batch_size=100, shuffle=True)\n",
        "augmented_dataset = augmented_dataloader.dataset"
      ],
      "metadata": {
        "id": "hBNbjiKh4fWA",
        "colab": {
          "base_uri": "https://localhost:8080/"
        },
        "outputId": "5bca6a4d-27ce-4d8e-de02-c92ea054538a"
      },
      "execution_count": 22,
      "outputs": [
        {
          "output_type": "stream",
          "name": "stdout",
          "text": [
            "CPU times: user 2min 45s, sys: 1e+03 ms, total: 2min 46s\n",
            "Wall time: 2min 47s\n"
          ]
        }
      ]
    },
    {
      "cell_type": "markdown",
      "source": [
        "#### View the augmented MNIST images"
      ],
      "metadata": {
        "id": "vIUEFkEbEtls"
      }
    },
    {
      "cell_type": "code",
      "source": [
        "# Select the first 5 images from the augmented dataset\n",
        "images = [img for img, _ in list(augmented_dataset)[10:15]]\n",
        "\n",
        "# Create a new figure\n",
        "plt.figure(figsize=(10, 2))\n",
        "\n",
        "for i, image in enumerate(images):\n",
        "    # Convert the tensor to a numpy array\n",
        "    image = image.numpy().squeeze()\n",
        "\n",
        "    # Create a subplot for each image\n",
        "    plt.subplot(1, 5, i+1)\n",
        "    plt.imshow(image, cmap='gray')\n",
        "    plt.axis('off')\n",
        "\n",
        "# Display the plot\n",
        "plt.show()"
      ],
      "metadata": {
        "colab": {
          "base_uri": "https://localhost:8080/",
          "height": 170
        },
        "id": "NLrE0Ih69Y9V",
        "outputId": "600b63e6-d73d-47f3-ba91-749c68be58a4"
      },
      "execution_count": 23,
      "outputs": [
        {
          "output_type": "display_data",
          "data": {
            "text/plain": [
              "<Figure size 1000x200 with 5 Axes>"
            ],
            "image/png": "[encoded data removed]"
          },
          "metadata": {}
        }
      ]
    },
    {
      "cell_type": "code",
      "source": [
        "# Combine the original and augmented datasets\n",
        "combined_dataset = ConcatDataset([mnist_train, augmented_dataset])\n",
        "\n",
        "augmented_train_loader = DataLoader(combined_dataset, batch_size = 100, shuffle=True)"
      ],
      "metadata": {
        "id": "sNsngsDQ-8hN"
      },
      "execution_count": 24,
      "outputs": []
    },
    {
      "cell_type": "markdown",
      "source": [
        "## Load the MNIST-C testset\n",
        "Please note that we have downloaded the MNIST-C datasets for motion blur, fog and zig-zag and we load them here from gdrive, so it is advisable to check the paths when running this block"
      ],
      "metadata": {
        "id": "f6GyN3cqEjqo"
      }
    },
    {
      "cell_type": "code",
      "source": [
        "import torch\n",
        "from torch.utils.data import TensorDataset, DataLoader\n",
        "import numpy as np\n",
        "import os\n",
        "\n",
        "# Define the corruption types\n",
        "corruptions = ['motion_blur', 'fog', 'zigzag']\n",
        "\n",
        "# Get the current working directory\n",
        "current_path = os.getcwd()\n",
        "\n",
        "# Create a dictionary to hold the DataLoaders for each corruption type\n",
        "dataloaders = {}\n",
        "\n",
        "for corruption in corruptions:\n",
        "    # Construct the path to the corruption folder within the current directory\n",
        "    path_to_corruption = os.path.join(current_path, corruption)\n",
        "\n",
        "    # Load images and labels\n",
        "    images = np.load(os.path.join(path_to_corruption, 'test_images.npy'))\n",
        "    labels = np.load(os.path.join(path_to_corruption, 'test_labels.npy'))\n",
        "\n",
        "    # Convert to PyTorch tensors and transpose the dimensions\n",
        "    images_tensor = torch.tensor(images, dtype=torch.float32).permute(0, 3, 1, 2)\n",
        "    labels_tensor = torch.tensor(labels, dtype=torch.long)\n",
        "\n",
        "    # Create TensorDataset\n",
        "    dataset = TensorDataset(images_tensor, labels_tensor)\n",
        "\n",
        "    # Create the DataLoader\n",
        "    dataloader = DataLoader(dataset, batch_size=32, shuffle=False)\n",
        "\n",
        "    # Store the DataLoader in the dictionary\n",
        "    dataloaders[corruption] = dataloader"
      ],
      "metadata": {
        "id": "BQCiSZQWDC4v"
      },
      "execution_count": 26,
      "outputs": []
    },
    {
      "cell_type": "code",
      "source": [
        "# initialize the CNN architecture with 4 convolutional layers and 2 MLP layers for standard training\n",
        "torch.manual_seed(0)\n",
        "\n",
        "class Flatten(nn.Module):\n",
        "    def forward(self, x):\n",
        "        return x.view(x.shape[0], -1)\n",
        "\n",
        "model_cnn_aug = nn.Sequential(nn.Conv2d(1, 32, 3, padding=1), nn.ReLU(),\n",
        "                          nn.Conv2d(32, 32, 3, padding=1, stride=2), nn.ReLU(),\n",
        "                          nn.Conv2d(32, 64, 3, padding=1), nn.ReLU(),\n",
        "                          nn.Conv2d(64, 64, 3, padding=1, stride=2), nn.ReLU(),\n",
        "                          Flatten(),\n",
        "                          nn.Linear(7*7*64, 100), nn.ReLU(),\n",
        "                          nn.Linear(100, 10)).to(device)"
      ],
      "metadata": {
        "id": "QPTRt7WuEr9a"
      },
      "execution_count": 27,
      "outputs": []
    },
    {
      "cell_type": "code",
      "source": [
        "import torch.optim as optim\n",
        "from tqdm import tqdm\n",
        "# Specify the optimizer as SGD\n",
        "opt = optim.SGD(model_cnn_aug.parameters(), lr=0.1)\n",
        "\n",
        "# Standard training for 30 epochs on augmented data\n",
        "for t in tqdm(range(30)):\n",
        "    train_err, train_loss = epoch(augmented_train_loader, model_cnn_aug, opt)\n",
        "    if (t+1)%5 == 0:\n",
        "      print(f\"Epoch {t+1}, Train Accuracy: {1-train_err:.6f}\")"
      ],
      "metadata": {
        "colab": {
          "base_uri": "https://localhost:8080/"
        },
        "id": "q8w27WPSEnXc",
        "outputId": "bcf9e212-76ef-48ab-f645-fb91b856c435"
      },
      "execution_count": 29,
      "outputs": [
        {
          "output_type": "stream",
          "name": "stderr",
          "text": [
            " 17%|█▋        | 5/30 [01:01<05:02, 12.09s/it]"
          ]
        },
        {
          "output_type": "stream",
          "name": "stdout",
          "text": [
            "Epoch 5, Train Accuracy: 0.994250\n"
          ]
        },
        {
          "output_type": "stream",
          "name": "stderr",
          "text": [
            " 33%|███▎      | 10/30 [02:03<04:03, 12.16s/it]"
          ]
        },
        {
          "output_type": "stream",
          "name": "stdout",
          "text": [
            "Epoch 10, Train Accuracy: 0.998683\n"
          ]
        },
        {
          "output_type": "stream",
          "name": "stderr",
          "text": [
            " 50%|█████     | 15/30 [03:03<03:00, 12.04s/it]"
          ]
        },
        {
          "output_type": "stream",
          "name": "stdout",
          "text": [
            "Epoch 15, Train Accuracy: 0.999817\n"
          ]
        },
        {
          "output_type": "stream",
          "name": "stderr",
          "text": [
            " 67%|██████▋   | 20/30 [04:03<02:00, 12.10s/it]"
          ]
        },
        {
          "output_type": "stream",
          "name": "stdout",
          "text": [
            "Epoch 20, Train Accuracy: 0.999867\n"
          ]
        },
        {
          "output_type": "stream",
          "name": "stderr",
          "text": [
            " 83%|████████▎ | 25/30 [05:03<01:00, 12.04s/it]"
          ]
        },
        {
          "output_type": "stream",
          "name": "stdout",
          "text": [
            "Epoch 25, Train Accuracy: 1.000000\n"
          ]
        },
        {
          "output_type": "stream",
          "name": "stderr",
          "text": [
            "100%|██████████| 30/30 [06:04<00:00, 12.15s/it]"
          ]
        },
        {
          "output_type": "stream",
          "name": "stdout",
          "text": [
            "Epoch 30, Train Accuracy: 1.000000\n"
          ]
        },
        {
          "output_type": "stream",
          "name": "stderr",
          "text": [
            "\n"
          ]
        }
      ]
    },
    {
      "cell_type": "code",
      "source": [
        "# Initialize the results\n",
        "results_aug = {}\n",
        "\n",
        "# Evaluate the model on each corrupted dataset\n",
        "for corruption, dataloader in dataloaders.items():\n",
        "    test_err, test_loss = epoch(dataloader, model_cnn)\n",
        "    accuracy = 1 - test_err\n",
        "    test_err_aug, test_loss_aug = epoch(dataloader, model_cnn_aug)\n",
        "    accuracy_aug = 1 - test_err_aug\n",
        "    print(f\"Clean model Test Accuracy on {corruption}: {accuracy:.6f}\")\n",
        "    print(f\"Augmented model Test Accuracy on {corruption}: {accuracy_aug:.6f}\")\n",
        "    print(f\"\\n\")\n",
        "\n",
        "    results[corruption] = accuracy  # Store accuracy\n",
        "    results_aug[corruption] = accuracy_aug  # Store accuracy"
      ],
      "metadata": {
        "colab": {
          "base_uri": "https://localhost:8080/"
        },
        "id": "3avxKcuvF89E",
        "outputId": "190ba896-c681-4381-dcd6-944b684dfe6f"
      },
      "execution_count": 30,
      "outputs": [
        {
          "output_type": "stream",
          "name": "stdout",
          "text": [
            "Clean model Test Accuracy on motion_blur: 0.948300\n",
            "Augmented model Test Accuracy on motion_blur: 0.963200\n",
            "\n",
            "\n",
            "Clean model Test Accuracy on fog: 0.556900\n",
            "Augmented model Test Accuracy on fog: 0.866500\n",
            "\n",
            "\n",
            "Clean model Test Accuracy on zigzag: 0.911100\n",
            "Augmented model Test Accuracy on zigzag: 0.899100\n",
            "\n",
            "\n"
          ]
        }
      ]
    },
    {
      "cell_type": "markdown",
      "source": [
        "# Original tutorial (for 0's and 8's)"
      ],
      "metadata": {
        "id": "toOeO2aeHB9d"
      }
    },
    {
      "cell_type": "markdown",
      "source": [
        "For example, let's consider the MNIST dataset and select only 0s and 8s to train a classifier."
      ],
      "metadata": {
        "id": "nxHVpHSqjHbL"
      }
    },
    {
      "cell_type": "code",
      "source": [
        "zeros.shape"
      ],
      "metadata": {
        "id": "kSCYxix6bDje"
      },
      "execution_count": null,
      "outputs": []
    },
    {
      "cell_type": "code",
      "source": [
        "zeros, eights, rotated_zeros, rotated_eights = get_mnist_0_and_8()"
      ],
      "metadata": {
        "id": "ZiDIsFjpV_jo"
      },
      "execution_count": null,
      "outputs": []
    },
    {
      "cell_type": "markdown",
      "source": [
        "Here are some random examples of numbers."
      ],
      "metadata": {
        "id": "GNP79240jc9Q"
      }
    },
    {
      "cell_type": "code",
      "source": [
        "vis_random(zeros, eights)"
      ],
      "metadata": {
        "id": "h5z7aVs7WMhl",
        "colab": {
          "base_uri": "https://localhost:8080/",
          "height": 172
        },
        "outputId": "236a3f7a-e362-4aae-a377-c0affb736f79"
      },
      "execution_count": null,
      "outputs": [
        {
          "output_type": "display_data",
          "data": {
            "text/plain": [
              "<Figure size 640x480 with 4 Axes>"
            ],
            "image/png": "[encoded data removed]"
          },
          "metadata": {}
        }
      ]
    },
    {
      "cell_type": "markdown",
      "source": [
        "Let's convert them into vectors in order to train a Random Forest model."
      ],
      "metadata": {
        "id": "R67cZJmyjhZP"
      }
    },
    {
      "cell_type": "code",
      "source": [
        "X, y = gen_sample(zeros, eights)"
      ],
      "metadata": {
        "id": "px8joMCWjmZo"
      },
      "execution_count": null,
      "outputs": []
    },
    {
      "cell_type": "code",
      "source": [
        "zeros[0].shape, len(X[0])"
      ],
      "metadata": {
        "colab": {
          "base_uri": "https://localhost:8080/"
        },
        "id": "7sIgppixWRQ1",
        "outputId": "b1541c34-79f6-44be-8d67-7a5f286fc7af"
      },
      "execution_count": null,
      "outputs": [
        {
          "output_type": "execute_result",
          "data": {
            "text/plain": [
              "((28, 28), 784)"
            ]
          },
          "metadata": {},
          "execution_count": 7
        }
      ]
    },
    {
      "cell_type": "code",
      "source": [
        "y[:10]"
      ],
      "metadata": {
        "colab": {
          "base_uri": "https://localhost:8080/"
        },
        "id": "XXaqamVbWXvY",
        "outputId": "b3568a74-3bd8-46b3-9e1e-e044f2869175"
      },
      "execution_count": null,
      "outputs": [
        {
          "output_type": "execute_result",
          "data": {
            "text/plain": [
              "array([0., 1., 0., 1., 1., 0., 0., 0., 1., 1.])"
            ]
          },
          "metadata": {},
          "execution_count": 8
        }
      ]
    },
    {
      "cell_type": "markdown",
      "source": [
        "And finally, train the model."
      ],
      "metadata": {
        "id": "HuH7fQ2Sjp2f"
      }
    },
    {
      "cell_type": "code",
      "source": [
        "rfc = RandomForestClassifier()\n",
        "rfc.fit(X[:X.shape[0] // 2], y[:X.shape[0] // 2])\n",
        "preds_val = rfc.predict_proba(X[X.shape[0] // 2:])[:, 1]\n",
        "\n",
        "print(f\"\"\"\n",
        "ROC-AUC Val: {roc_auc_score(y[X.shape[0] // 2:], preds_val)}\n",
        "\"\"\")"
      ],
      "metadata": {
        "colab": {
          "base_uri": "https://localhost:8080/"
        },
        "id": "l9t4Dhj0Wd1r",
        "outputId": "285cbd6a-d6be-4d1a-a532-ac6a82247332"
      },
      "execution_count": null,
      "outputs": [
        {
          "output_type": "stream",
          "name": "stdout",
          "text": [
            "\n",
            "ROC-AUC Val: 0.9997213671400944\n",
            "\n"
          ]
        }
      ]
    },
    {
      "cell_type": "markdown",
      "source": [
        "Let's introduce color to MNIST dataset. Suppose that 0s will be represented in red, and 8s will be represented in green during the training phase. The performance of the model should not depend on the color of the number, as only the shape should be considered. We are still working with one channel, but we assign different weights to it based on the color: red has a weight of 0.3, green has a weight of 0.59, and blue has a weight of 0.11."
      ],
      "metadata": {
        "id": "_luGaV-vj4ib"
      }
    },
    {
      "cell_type": "code",
      "source": [
        "vis_colored(zeros[0])\n",
        "vis_grayscale(zeros[0])\n",
        "vis_colored(eights[0])\n",
        "vis_grayscale(eights[0])"
      ],
      "metadata": {
        "colab": {
          "base_uri": "https://localhost:8080/",
          "height": 637
        },
        "id": "oiuHn4jxWl0b",
        "outputId": "c1a2d9e8-a81c-4712-965d-2ade76dcb68a"
      },
      "execution_count": null,
      "outputs": [
        {
          "output_type": "display_data",
          "data": {
            "text/plain": [
              "<Figure size 640x480 with 4 Axes>"
            ],
            "image/png": "[encoded data removed]"
          },
          "metadata": {}
        },
        {
          "output_type": "display_data",
          "data": {
            "text/plain": [
              "<Figure size 640x480 with 4 Axes>"
            ],
            "image/png": "[encoded data removed]"
          },
          "metadata": {}
        },
        {
          "output_type": "display_data",
          "data": {
            "text/plain": [
              "<Figure size 640x480 with 4 Axes>"
            ],
            "image/png": "[encoded data removed]"
          },
          "metadata": {}
        },
        {
          "output_type": "display_data",
          "data": {
            "text/plain": [
              "<Figure size 640x480 with 4 Axes>"
            ],
            "image/png": "[encoded data removed]"
          },
          "metadata": {}
        }
      ]
    },
    {
      "cell_type": "markdown",
      "source": [
        "The different colors have different intensities when converted to grayscale."
      ],
      "metadata": {
        "id": "Zkk3AP-fkHde"
      }
    },
    {
      "cell_type": "code",
      "source": [
        "vis_zero_hist(zeros)"
      ],
      "metadata": {
        "colab": {
          "base_uri": "https://localhost:8080/",
          "height": 452
        },
        "id": "V4ubuN4kWsUZ",
        "outputId": "05410f5c-6461-43cb-8a60-00e7041f50aa"
      },
      "execution_count": null,
      "outputs": [
        {
          "output_type": "display_data",
          "data": {
            "text/plain": [
              "<Figure size 640x480 with 1 Axes>"
            ],
            "image/png": "[encoded data removed]"
          },
          "metadata": {}
        }
      ]
    },
    {
      "cell_type": "markdown",
      "source": [
        "Let's generate different splits."
      ],
      "metadata": {
        "id": "hE4BbHqCkJ97"
      }
    },
    {
      "cell_type": "code",
      "source": [
        "splits = gen_colored_splits(zeros, eights)\n",
        "splits.keys()"
      ],
      "metadata": {
        "colab": {
          "base_uri": "https://localhost:8080/"
        },
        "id": "8iXTfVp2WzH9",
        "outputId": "54b7da10-62f6-4fe0-b68a-d9a010cf1508"
      },
      "execution_count": null,
      "outputs": [
        {
          "output_type": "execute_result",
          "data": {
            "text/plain": [
              "dict_keys(['train', 'train_flipped', 'val', 'test', 'blue'])"
            ]
          },
          "metadata": {},
          "execution_count": 12
        }
      ]
    },
    {
      "cell_type": "markdown",
      "source": [
        "\n",
        "Let's evaluate the performance on the same type of data."
      ],
      "metadata": {
        "id": "D8WeSah1kMuk"
      }
    },
    {
      "cell_type": "code",
      "source": [
        "rfc = RandomForestClassifier()\n",
        "rfc.fit(*splits[\"train\"])\n",
        "\n",
        "X_val, y_val = splits[\"val\"]\n",
        "preds_val = rfc.predict_proba(X_val)[:, 1]\n",
        "\n",
        "print(f\"\"\"\n",
        "ROC-AUC Val: {roc_auc_score(y_val, preds_val)}\n",
        "\"\"\")"
      ],
      "metadata": {
        "colab": {
          "base_uri": "https://localhost:8080/"
        },
        "id": "DTmMOSwOW3E7",
        "outputId": "013e5540-3ca5-4e12-b342-b1a861a211d6"
      },
      "execution_count": null,
      "outputs": [
        {
          "output_type": "stream",
          "name": "stdout",
          "text": [
            "\n",
            "ROC-AUC Val: 1.0\n",
            "\n"
          ]
        }
      ]
    },
    {
      "cell_type": "markdown",
      "source": [
        "What if our training data does not contain a certain type of observations?"
      ],
      "metadata": {
        "id": "McrneWeskRg7"
      }
    },
    {
      "cell_type": "markdown",
      "source": [
        "It is a data distribution shift. Our model has not encountered novel data, so it cannot make proper decisions.\n",
        "\n",
        "For example, we can switch colors between 0s and 8s."
      ],
      "metadata": {
        "id": "UlYs8t9skWew"
      }
    },
    {
      "cell_type": "code",
      "source": [
        "X_test, y_test = splits[\"test\"]\n",
        "preds_test = rfc.predict_proba(X_test)[:, 1]\n",
        "\n",
        "print(f\"\"\"\n",
        "ROC-AUC Test: {roc_auc_score(y_test, preds_test)}\n",
        "\"\"\")"
      ],
      "metadata": {
        "colab": {
          "base_uri": "https://localhost:8080/"
        },
        "id": "1xiBQrTRW7QJ",
        "outputId": "62aa936d-9ab9-441e-da97-130cac335772"
      },
      "execution_count": null,
      "outputs": [
        {
          "output_type": "stream",
          "name": "stdout",
          "text": [
            "\n",
            "ROC-AUC Test: 0.08618909644917713\n",
            "\n"
          ]
        }
      ]
    },
    {
      "cell_type": "markdown",
      "source": [
        "Our model has overfitted to the colors and has not learned anything about shapes.\n",
        "\n",
        "The fundamental solution is to increase the diversity of the data and ensure that it can generalize to any situation."
      ],
      "metadata": {
        "id": "tZfQ9GLTkZV1"
      }
    },
    {
      "cell_type": "code",
      "source": [
        "X = np.concatenate([splits[\"train\"][0], splits[\"train_flipped\"][0]])\n",
        "y = np.concatenate([splits[\"train\"][1], splits[\"train_flipped\"][1]])\n",
        "\n",
        "rfc = RandomForestClassifier()\n",
        "rfc.fit(X, y)\n",
        "\n",
        "preds_val = rfc.predict_proba(X_val)[:, 1]\n",
        "preds_test = rfc.predict_proba(X_test)[:, 1]\n",
        "\n",
        "print(f\"\"\"\n",
        "ROC-AUC Val: {roc_auc_score(y_val, preds_val)}\n",
        "ROC-AUC Test: {roc_auc_score(y_test, preds_test)}\n",
        "\"\"\")"
      ],
      "metadata": {
        "colab": {
          "base_uri": "https://localhost:8080/"
        },
        "id": "A991itXnXFd2",
        "outputId": "d7d6ea0f-3354-4005-8dc4-70f0ccc72568"
      },
      "execution_count": null,
      "outputs": [
        {
          "output_type": "stream",
          "name": "stdout",
          "text": [
            "\n",
            "ROC-AUC Val: 0.9996288444335226\n",
            "ROC-AUC Test: 0.9995615841884935\n",
            "\n"
          ]
        }
      ]
    },
    {
      "cell_type": "markdown",
      "source": [
        "Now it works much better and can even generalize to new colors."
      ],
      "metadata": {
        "id": "vsVrfRSMkcbH"
      }
    },
    {
      "cell_type": "code",
      "source": [
        "X_blue, y_blue = splits[\"blue\"]\n",
        "preds_blue = rfc.predict_proba(X_blue)[:, 1]\n",
        "\n",
        "print(f\"\"\"\n",
        "ROC-AUC Test Blue: {roc_auc_score(y_blue, preds_blue)}\n",
        "\"\"\")"
      ],
      "metadata": {
        "colab": {
          "base_uri": "https://localhost:8080/"
        },
        "id": "hQuuY1vuX3HF",
        "outputId": "3e15c09d-0b36-428e-d4e2-c04039fc9676"
      },
      "execution_count": null,
      "outputs": [
        {
          "output_type": "stream",
          "name": "stdout",
          "text": [
            "\n",
            "ROC-AUC Test Blue: 0.9987825618672601\n",
            "\n"
          ]
        }
      ]
    },
    {
      "cell_type": "markdown",
      "source": [
        "However, there are limitations to our ability to handle data distribution shifts.\n",
        "\n",
        "It is possible that we have not considered all possible types of observations (e.g., random crops)."
      ],
      "metadata": {
        "id": "L879juUhkiSu"
      }
    },
    {
      "cell_type": "code",
      "source": [
        "vis_grayscale(rotated_zeros[0])\n",
        "vis_grayscale(rotated_eights[0])"
      ],
      "metadata": {
        "colab": {
          "base_uri": "https://localhost:8080/",
          "height": 327
        },
        "id": "BCihg00sZ5o4",
        "outputId": "0a4e3ced-5311-417a-a231-e1e82ebdcbc5"
      },
      "execution_count": null,
      "outputs": [
        {
          "output_type": "display_data",
          "data": {
            "text/plain": [
              "<Figure size 640x480 with 4 Axes>"
            ],
            "image/png": "[encoded data removed]"
          },
          "metadata": {}
        },
        {
          "output_type": "display_data",
          "data": {
            "text/plain": [
              "<Figure size 640x480 with 4 Axes>"
            ],
            "image/png": "[encoded data removed]"
          },
          "metadata": {}
        }
      ]
    },
    {
      "cell_type": "code",
      "source": [
        "X, y = gen_sample(rotated_zeros, rotated_eights)\n",
        "\n",
        "preds_rotated = rfc.predict_proba(X)[:, 1]\n",
        "\n",
        "print(f\"\"\"\n",
        "ROC-AUC Test Blue: {roc_auc_score(y, preds_rotated)}\n",
        "\"\"\")"
      ],
      "metadata": {
        "colab": {
          "base_uri": "https://localhost:8080/"
        },
        "id": "XcX4FKekZ9Fm",
        "outputId": "3e721ce0-3ebf-4401-8547-feb1324b8b0c"
      },
      "execution_count": null,
      "outputs": [
        {
          "output_type": "stream",
          "name": "stdout",
          "text": [
            "\n",
            "ROC-AUC Test Blue: 0.45627517477542434\n",
            "\n"
          ]
        }
      ]
    },
    {
      "cell_type": "code",
      "source": [],
      "metadata": {
        "id": "RpGLRI_mmGGS"
      },
      "execution_count": null,
      "outputs": []
    }
  ]
}