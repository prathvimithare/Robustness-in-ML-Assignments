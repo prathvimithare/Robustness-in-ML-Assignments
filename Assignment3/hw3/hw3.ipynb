{
 "cells": [
  {
   "cell_type": "markdown",
   "metadata": {},
   "source": [
    "# Latest"
   ]
  },
  {
   "cell_type": "code",
   "execution_count": 21,
   "metadata": {},
   "outputs": [],
   "source": [
    "import torch\n",
    "import torch.nn as nn\n",
    "import torch.optim as optim\n",
    "from torch.utils.data import DataLoader, TensorDataset\n",
    "from torchvision import datasets, transforms\n",
    "import numpy as np\n",
    "import matplotlib.pyplot as plt"
   ]
  },
  {
   "cell_type": "code",
   "execution_count": 22,
   "metadata": {},
   "outputs": [],
   "source": [
    "# Download MNIST dataset\n",
    "transform = transforms.Compose([transforms.ToTensor(), transforms.Normalize((0.5,), (0.5,))])\n",
    "\n",
    "train_dataset = datasets.MNIST(root='./data', train=True, download=True, transform=transform)\n",
    "test_dataset = datasets.MNIST(root='./data', train=False, download=True, transform=transform)\n",
    "\n",
    "# Filter classes 1 and 7\n",
    "classes_17 = [1, 7]\n",
    "\n",
    "train_mask = torch.tensor([label in classes_17 for label in train_dataset.targets])\n",
    "test_mask = torch.tensor([label in classes_17 for label in test_dataset.targets])\n",
    "\n",
    "X_train_binary, y_train_binary = train_dataset.data[train_mask], train_dataset.targets[train_mask]\n",
    "X_test_binary, y_test_binary = test_dataset.data[test_mask], test_dataset.targets[test_mask]\n"
   ]
  },
  {
   "cell_type": "code",
   "execution_count": 23,
   "metadata": {},
   "outputs": [],
   "source": [
    "# Subsample and relabel\n",
    "X_train_binary = X_train_binary[(y_train_binary == 1) | (y_train_binary == 7)]\n",
    "y_train_binary = torch.where(y_train_binary == 1, torch.tensor(0), torch.tensor(1))\n",
    "\n",
    "X_test_binary = X_test_binary[(y_test_binary == 1) | (y_test_binary == 7)]\n",
    "y_test_binary = torch.where(y_test_binary == 1, torch.tensor(0), torch.tensor(1))\n",
    "\n",
    "# Flatten images\n",
    "X_train_flat = X_train_binary.view(X_train_binary.shape[0], -1).float() / 255.0\n",
    "X_test_flat = X_test_binary.view(X_test_binary.shape[0], -1).float() / 255.0\n"
   ]
  },
  {
   "cell_type": "code",
   "execution_count": 24,
   "metadata": {},
   "outputs": [],
   "source": [
    "def craft_random_lflip(train_set, ratio):\n",
    "    # Implement the function to flip labels for a ratio% of samples\n",
    "    num_poisons = int(len(train_set) * ratio)\n",
    "    indices = np.random.choice(len(train_set), num_poisons, replace=False)\n",
    "    train_set_poisoned = train_set.clone()  # Make a copy to avoid modifying the original\n",
    "    train_set_poisoned[indices] = 1 - train_set_poisoned[indices]\n",
    "    return train_set_poisoned"
   ]
  },
  {
   "cell_type": "code",
   "execution_count": 25,
   "metadata": {},
   "outputs": [],
   "source": [
    "# Train victim learner (logistic regression)\n",
    "class LogisticRegressionModel(nn.Module):\n",
    "    def __init__(self, input_size):\n",
    "        super(LogisticRegressionModel, self).__init__()\n",
    "        self.linear = nn.Linear(input_size, 1)\n",
    "\n",
    "    def forward(self, x):\n",
    "        return torch.sigmoid(self.linear(x))"
   ]
  },
  {
   "cell_type": "code",
   "execution_count": 26,
   "metadata": {},
   "outputs": [
    {
     "data": {
      "image/png": "[encoded data removed]",
      "text/plain": [
       "<Figure size 432x288 with 1 Axes>"
      ]
     },
     "metadata": {
      "needs_background": "light"
     },
     "output_type": "display_data"
    }
   ],
   "source": [
    "import matplotlib.pyplot as plt\n",
    "\n",
    "# Experiment and Plot\n",
    "ratios = [0, 0.05, 0.1, 0.25, 0.5]\n",
    "accuracies = []\n",
    "\n",
    "for ratio in ratios:\n",
    "    # Craft poisoned training set\n",
    "    poisoned_train_set_y = craft_random_lflip(y_train_binary, ratio)\n",
    "\n",
    "    # Train logistic regression model\n",
    "    input_size = X_train_flat.shape[1]\n",
    "    model = LogisticRegressionModel(input_size)\n",
    "\n",
    "    criterion = nn.BCELoss()\n",
    "    optimizer = optim.SGD(model.parameters(), lr=0.01, momentum=0.9)\n",
    "\n",
    "    num_epochs = 10\n",
    "    for epoch in range(num_epochs):\n",
    "        model.train()\n",
    "        optimizer.zero_grad()\n",
    "\n",
    "        outputs = model(X_train_flat)\n",
    "        loss = criterion(outputs, poisoned_train_set_y.float().view(-1, 1))\n",
    "        loss.backward()\n",
    "\n",
    "        optimizer.step()\n",
    "\n",
    "\n",
    "    # Evaluate on clean test set\n",
    "    model.eval()\n",
    "    with torch.no_grad():\n",
    "        outputs = model(X_test_flat)\n",
    "        predictions = (outputs >= 0.5).float()\n",
    "        accuracy = torch.sum(predictions == y_test_binary.view(-1, 1)).item() / len(y_test_binary)\n",
    "        accuracies.append(accuracy)\n",
    "\n",
    "# Plot the results\n",
    "plt.plot(ratios, accuracies, marker='o')\n",
    "plt.xlabel('Poison Ratio')\n",
    "plt.ylabel('Classification Accuracy on Test Set')\n",
    "plt.title('Effect of Random Label-Flipping Poisoning on Logistic Regression Model')\n",
    "plt.show()"
   ]
  },
  {
   "cell_type": "code",
   "execution_count": 27,
   "metadata": {},
   "outputs": [
    {
     "data": {
      "text/plain": [
       "[0.9699491447064262,\n",
       " 0.9648636153490523,\n",
       " 0.9704114655570967,\n",
       " 0.9754969949144706,\n",
       " 0.4572353213129912]"
      ]
     },
     "execution_count": 27,
     "metadata": {},
     "output_type": "execute_result"
    }
   ],
   "source": [
    "accuracies\n"
   ]
  },
  {
   "cell_type": "markdown",
   "metadata": {},
   "source": [
    "# Problem 2"
   ]
  },
  {
   "cell_type": "code",
   "execution_count": 1,
   "metadata": {},
   "outputs": [],
   "source": [
    "import torch\n",
    "import torch.nn as nn\n",
    "import torch.optim as optim\n",
    "from torchvision import models, datasets, transforms\n",
    "from torch.utils.data import DataLoader, random_split\n",
    "\n",
    "device = torch.device(\"cuda\" if torch.cuda.is_available() else \"cpu\")"
   ]
  },
  {
   "cell_type": "code",
   "execution_count": 2,
   "metadata": {},
   "outputs": [
    {
     "name": "stdout",
     "output_type": "stream",
     "text": [
      "Files already downloaded and verified\n",
      "Files already downloaded and verified\n"
     ]
    }
   ],
   "source": [
    "# Step 1: Load CIFAR-10 dataset\n",
    "transform = transforms.Compose([\n",
    "    transforms.ToTensor(),\n",
    "    transforms.Normalize((0.5, 0.5, 0.5), (0.5, 0.5, 0.5))\n",
    "])\n",
    "\n",
    "# Hyperparameters\n",
    "batch_size = 128\n",
    "learning_rate = 0.01\n",
    "num_epochs = 100\n",
    "\n",
    "train_dataset = datasets.CIFAR10(root='./data', train=True, download=True, transform=transform)\n",
    "test_dataset = datasets.CIFAR10(root='./data', train=False, download=True, transform=transform)\n",
    "\n",
    "# Create data loaders\n",
    "train_loader = DataLoader(train_dataset, batch_size=batch_size, shuffle=True, num_workers=4)\n",
    "test_loader = DataLoader(test_dataset, batch_size=batch_size, shuffle=False, num_workers=4)\n"
   ]
  },
  {
   "cell_type": "code",
   "execution_count": 3,
   "metadata": {},
   "outputs": [],
   "source": [
    "from tqdm import tqdm\n",
    "# Step 2: Train ResNet18 model\n",
    "def train_resnet18(train_loader, val_loader, num_epochs=10):\n",
    "    resnet18 = models.resnet18(pretrained=False)\n",
    "    resnet18.fc = nn.Linear(resnet18.fc.in_features, 10)  # Change the output size for CIFAR-10\n",
    "    device = torch.device(\"cuda\" if torch.cuda.is_available() else \"cpu\")\n",
    "    resnet18.to(device)\n",
    "\n",
    "    criterion = nn.CrossEntropyLoss()\n",
    "    optimizer = optim.SGD(resnet18.parameters(), lr=0.01, momentum=0.9)\n",
    "\n",
    "\n",
    "    for epoch in tqdm(range(num_epochs)):\n",
    "        resnet18.train()\n",
    "        for inputs, labels in train_loader:\n",
    "            inputs, labels = inputs.to(device), labels.to(device)\n",
    "            optimizer.zero_grad()\n",
    "            outputs = resnet18(inputs)\n",
    "            loss = criterion(outputs, labels)\n",
    "            loss.backward()\n",
    "            optimizer.step()\n",
    "\n",
    "        # Validation\n",
    "        resnet18.eval()\n",
    "        with torch.no_grad():\n",
    "            val_loss = 0.0\n",
    "            correct = 0\n",
    "            total = 0\n",
    "            for inputs, labels in val_loader:\n",
    "                inputs, labels = inputs.to(device), labels.to(device)\n",
    "                outputs = resnet18(inputs)\n",
    "                loss = criterion(outputs, labels)\n",
    "                val_loss += loss.item()\n",
    "                _, predicted = torch.max(outputs.data, 1)\n",
    "                total += labels.size(0)\n",
    "                correct += (predicted == labels).sum().item()\n",
    "\n",
    "            print(f\"Epoch {epoch + 1}/{num_epochs}, Validation Accuracy: {100 * correct / total}%\")\n",
    "\n",
    "    return resnet18"
   ]
  },
  {
   "cell_type": "code",
   "execution_count": 4,
   "metadata": {},
   "outputs": [
    {
     "name": "stderr",
     "output_type": "stream",
     "text": [
      " 10%|████████▎                                                                          | 1/10 [00:34<05:09, 34.42s/it]"
     ]
    },
    {
     "name": "stdout",
     "output_type": "stream",
     "text": [
      "Epoch 1/10, Validation Accuracy: 55.89%\n"
     ]
    },
    {
     "name": "stderr",
     "output_type": "stream",
     "text": [
      "\r",
      " 20%|████████████████▌                                                                  | 2/10 [01:05<04:18, 32.27s/it]"
     ]
    },
    {
     "name": "stdout",
     "output_type": "stream",
     "text": [
      "Epoch 2/10, Validation Accuracy: 62.94%\n"
     ]
    },
    {
     "name": "stderr",
     "output_type": "stream",
     "text": [
      "\r",
      " 30%|████████████████████████▉                                                          | 3/10 [01:37<03:46, 32.30s/it]"
     ]
    },
    {
     "name": "stdout",
     "output_type": "stream",
     "text": [
      "Epoch 3/10, Validation Accuracy: 64.86%\n"
     ]
    },
    {
     "name": "stderr",
     "output_type": "stream",
     "text": [
      "\r",
      " 40%|█████████████████████████████████▏                                                 | 4/10 [02:08<03:11, 31.96s/it]"
     ]
    },
    {
     "name": "stdout",
     "output_type": "stream",
     "text": [
      "Epoch 4/10, Validation Accuracy: 67.95%\n"
     ]
    },
    {
     "name": "stderr",
     "output_type": "stream",
     "text": [
      "\r",
      " 50%|█████████████████████████████████████████▌                                         | 5/10 [02:41<02:41, 32.20s/it]"
     ]
    },
    {
     "name": "stdout",
     "output_type": "stream",
     "text": [
      "Epoch 5/10, Validation Accuracy: 67.46%\n"
     ]
    },
    {
     "name": "stderr",
     "output_type": "stream",
     "text": [
      "\r",
      " 60%|█████████████████████████████████████████████████▊                                 | 6/10 [03:12<02:07, 31.82s/it]"
     ]
    },
    {
     "name": "stdout",
     "output_type": "stream",
     "text": [
      "Epoch 6/10, Validation Accuracy: 68.89%\n"
     ]
    },
    {
     "name": "stderr",
     "output_type": "stream",
     "text": [
      "\r",
      " 70%|██████████████████████████████████████████████████████████                         | 7/10 [03:43<01:34, 31.56s/it]"
     ]
    },
    {
     "name": "stdout",
     "output_type": "stream",
     "text": [
      "Epoch 7/10, Validation Accuracy: 69.23%\n"
     ]
    },
    {
     "name": "stderr",
     "output_type": "stream",
     "text": [
      "\r",
      " 80%|██████████████████████████████████████████████████████████████████▍                | 8/10 [04:15<01:03, 31.69s/it]"
     ]
    },
    {
     "name": "stdout",
     "output_type": "stream",
     "text": [
      "Epoch 8/10, Validation Accuracy: 68.74%\n"
     ]
    },
    {
     "name": "stderr",
     "output_type": "stream",
     "text": [
      "\r",
      " 90%|██████████████████████████████████████████████████████████████████████████▋        | 9/10 [04:47<00:31, 31.79s/it]"
     ]
    },
    {
     "name": "stdout",
     "output_type": "stream",
     "text": [
      "Epoch 9/10, Validation Accuracy: 69.95%\n"
     ]
    },
    {
     "name": "stderr",
     "output_type": "stream",
     "text": [
      "100%|██████████████████████████████████████████████████████████████████████████████████| 10/10 [05:18<00:00, 31.87s/it]"
     ]
    },
    {
     "name": "stdout",
     "output_type": "stream",
     "text": [
      "Epoch 10/10, Validation Accuracy: 70.7%\n"
     ]
    },
    {
     "name": "stderr",
     "output_type": "stream",
     "text": [
      "\n"
     ]
    }
   ],
   "source": [
    "# Train the ResNet18 model\n",
    "trained_resnet18 = train_resnet18(train_loader, test_loader)"
   ]
  },
  {
   "cell_type": "code",
   "execution_count": 13,
   "metadata": {},
   "outputs": [],
   "source": [
    "torch.save(trained_resnet18.state_dict(), 'resnet18_cifar10_p.pth')"
   ]
  },
  {
   "cell_type": "code",
   "execution_count": 14,
   "metadata": {},
   "outputs": [
    {
     "data": {
      "text/plain": [
       "<All keys matched successfully>"
      ]
     },
     "execution_count": 14,
     "metadata": {},
     "output_type": "execute_result"
    }
   ],
   "source": [
    "trained_resnet18 = models.resnet18(pretrained=False)\n",
    "trained_resnet18.fc = nn.Linear(trained_resnet18.fc.in_features, 10)\n",
    "trained_resnet18.to(device)\n",
    "\n",
    "# Load the saved model state dictionary\n",
    "trained_resnet18.load_state_dict(torch.load('resnet18_cifar10_p.pth'))"
   ]
  },
  {
   "cell_type": "code",
   "execution_count": 15,
   "metadata": {},
   "outputs": [
    {
     "data": {
      "text/plain": [
       "Sequential(\n",
       "  (0): Conv2d(3, 64, kernel_size=(7, 7), stride=(2, 2), padding=(3, 3), bias=False)\n",
       "  (1): BatchNorm2d(64, eps=1e-05, momentum=0.1, affine=True, track_running_stats=True)\n",
       "  (2): ReLU(inplace=True)\n",
       "  (3): MaxPool2d(kernel_size=3, stride=2, padding=1, dilation=1, ceil_mode=False)\n",
       "  (4): Sequential(\n",
       "    (0): BasicBlock(\n",
       "      (conv1): Conv2d(64, 64, kernel_size=(3, 3), stride=(1, 1), padding=(1, 1), bias=False)\n",
       "      (bn1): BatchNorm2d(64, eps=1e-05, momentum=0.1, affine=True, track_running_stats=True)\n",
       "      (relu): ReLU(inplace=True)\n",
       "      (conv2): Conv2d(64, 64, kernel_size=(3, 3), stride=(1, 1), padding=(1, 1), bias=False)\n",
       "      (bn2): BatchNorm2d(64, eps=1e-05, momentum=0.1, affine=True, track_running_stats=True)\n",
       "    )\n",
       "    (1): BasicBlock(\n",
       "      (conv1): Conv2d(64, 64, kernel_size=(3, 3), stride=(1, 1), padding=(1, 1), bias=False)\n",
       "      (bn1): BatchNorm2d(64, eps=1e-05, momentum=0.1, affine=True, track_running_stats=True)\n",
       "      (relu): ReLU(inplace=True)\n",
       "      (conv2): Conv2d(64, 64, kernel_size=(3, 3), stride=(1, 1), padding=(1, 1), bias=False)\n",
       "      (bn2): BatchNorm2d(64, eps=1e-05, momentum=0.1, affine=True, track_running_stats=True)\n",
       "    )\n",
       "  )\n",
       "  (5): Sequential(\n",
       "    (0): BasicBlock(\n",
       "      (conv1): Conv2d(64, 128, kernel_size=(3, 3), stride=(2, 2), padding=(1, 1), bias=False)\n",
       "      (bn1): BatchNorm2d(128, eps=1e-05, momentum=0.1, affine=True, track_running_stats=True)\n",
       "      (relu): ReLU(inplace=True)\n",
       "      (conv2): Conv2d(128, 128, kernel_size=(3, 3), stride=(1, 1), padding=(1, 1), bias=False)\n",
       "      (bn2): BatchNorm2d(128, eps=1e-05, momentum=0.1, affine=True, track_running_stats=True)\n",
       "      (downsample): Sequential(\n",
       "        (0): Conv2d(64, 128, kernel_size=(1, 1), stride=(2, 2), bias=False)\n",
       "        (1): BatchNorm2d(128, eps=1e-05, momentum=0.1, affine=True, track_running_stats=True)\n",
       "      )\n",
       "    )\n",
       "    (1): BasicBlock(\n",
       "      (conv1): Conv2d(128, 128, kernel_size=(3, 3), stride=(1, 1), padding=(1, 1), bias=False)\n",
       "      (bn1): BatchNorm2d(128, eps=1e-05, momentum=0.1, affine=True, track_running_stats=True)\n",
       "      (relu): ReLU(inplace=True)\n",
       "      (conv2): Conv2d(128, 128, kernel_size=(3, 3), stride=(1, 1), padding=(1, 1), bias=False)\n",
       "      (bn2): BatchNorm2d(128, eps=1e-05, momentum=0.1, affine=True, track_running_stats=True)\n",
       "    )\n",
       "  )\n",
       "  (6): Sequential(\n",
       "    (0): BasicBlock(\n",
       "      (conv1): Conv2d(128, 256, kernel_size=(3, 3), stride=(2, 2), padding=(1, 1), bias=False)\n",
       "      (bn1): BatchNorm2d(256, eps=1e-05, momentum=0.1, affine=True, track_running_stats=True)\n",
       "      (relu): ReLU(inplace=True)\n",
       "      (conv2): Conv2d(256, 256, kernel_size=(3, 3), stride=(1, 1), padding=(1, 1), bias=False)\n",
       "      (bn2): BatchNorm2d(256, eps=1e-05, momentum=0.1, affine=True, track_running_stats=True)\n",
       "      (downsample): Sequential(\n",
       "        (0): Conv2d(128, 256, kernel_size=(1, 1), stride=(2, 2), bias=False)\n",
       "        (1): BatchNorm2d(256, eps=1e-05, momentum=0.1, affine=True, track_running_stats=True)\n",
       "      )\n",
       "    )\n",
       "    (1): BasicBlock(\n",
       "      (conv1): Conv2d(256, 256, kernel_size=(3, 3), stride=(1, 1), padding=(1, 1), bias=False)\n",
       "      (bn1): BatchNorm2d(256, eps=1e-05, momentum=0.1, affine=True, track_running_stats=True)\n",
       "      (relu): ReLU(inplace=True)\n",
       "      (conv2): Conv2d(256, 256, kernel_size=(3, 3), stride=(1, 1), padding=(1, 1), bias=False)\n",
       "      (bn2): BatchNorm2d(256, eps=1e-05, momentum=0.1, affine=True, track_running_stats=True)\n",
       "    )\n",
       "  )\n",
       "  (7): Sequential(\n",
       "    (0): BasicBlock(\n",
       "      (conv1): Conv2d(256, 512, kernel_size=(3, 3), stride=(2, 2), padding=(1, 1), bias=False)\n",
       "      (bn1): BatchNorm2d(512, eps=1e-05, momentum=0.1, affine=True, track_running_stats=True)\n",
       "      (relu): ReLU(inplace=True)\n",
       "      (conv2): Conv2d(512, 512, kernel_size=(3, 3), stride=(1, 1), padding=(1, 1), bias=False)\n",
       "      (bn2): BatchNorm2d(512, eps=1e-05, momentum=0.1, affine=True, track_running_stats=True)\n",
       "      (downsample): Sequential(\n",
       "        (0): Conv2d(256, 512, kernel_size=(1, 1), stride=(2, 2), bias=False)\n",
       "        (1): BatchNorm2d(512, eps=1e-05, momentum=0.1, affine=True, track_running_stats=True)\n",
       "      )\n",
       "    )\n",
       "    (1): BasicBlock(\n",
       "      (conv1): Conv2d(512, 512, kernel_size=(3, 3), stride=(1, 1), padding=(1, 1), bias=False)\n",
       "      (bn1): BatchNorm2d(512, eps=1e-05, momentum=0.1, affine=True, track_running_stats=True)\n",
       "      (relu): ReLU(inplace=True)\n",
       "      (conv2): Conv2d(512, 512, kernel_size=(3, 3), stride=(1, 1), padding=(1, 1), bias=False)\n",
       "      (bn2): BatchNorm2d(512, eps=1e-05, momentum=0.1, affine=True, track_running_stats=True)\n",
       "    )\n",
       "  )\n",
       "  (8): AdaptiveAvgPool2d(output_size=(1, 1))\n",
       ")"
      ]
     },
     "execution_count": 15,
     "metadata": {},
     "output_type": "execute_result"
    }
   ],
   "source": [
    "feature_extract = nn.Sequential(*list(trained_resnet18.children())[:-1])\n",
    "feature_extract.eval()"
   ]
  },
  {
   "cell_type": "code",
   "execution_count": 16,
   "metadata": {},
   "outputs": [
    {
     "name": "stdout",
     "output_type": "stream",
     "text": [
      "deer indices: [22, 26, 32, 36, 40]\n",
      "cat indices: [0, 8, 46, 53, 61, 63, 68, 77, 78, 91, 103, 106, 115, 121, 127, 143, 176, 184, 187, 205, 224, 245, 251, 256, 271, 273, 277, 279, 294, 302, 320, 323, 332, 336, 356, 367, 397, 399, 412, 418, 426, 432, 434, 438, 453, 456, 464, 467, 470, 515, 558, 565, 573, 586, 597, 599, 607, 608, 637, 641, 646, 650, 664, 669, 671, 673, 676, 688, 690, 695, 715, 716, 727, 739, 760, 786, 790, 792, 811, 819, 825, 829, 831, 845, 862, 863, 866, 870, 874, 878, 882, 896, 898, 911, 916, 932, 945, 948, 950, 957]\n"
     ]
    }
   ],
   "source": [
    "classes = test_dataset.classes\n",
    "deer_class = classes.index('deer')\n",
    "cat_class = classes.index('cat')\n",
    "\n",
    "# List comprehension to get indices of images with a specific class\n",
    "def get_indices(dataset, class_idx, num_samples):\n",
    "    return [i for i, (_, label) in enumerate(dataset) if label == class_idx][:num_samples]\n",
    "\n",
    "# Select 5 deer images and 100 cat images\n",
    "deer_indices = get_indices(test_dataset, deer_class, 5)\n",
    "print(\"deer indices:\", deer_indices)\n",
    "\n",
    "cat_indices = get_indices(test_dataset, cat_class, 100)\n",
    "print(\"cat indices:\", cat_indices)\n"
   ]
  },
  {
   "cell_type": "code",
   "execution_count": 17,
   "metadata": {},
   "outputs": [],
   "source": [
    "LR=0.01\n",
    "beta=0.25\n",
    "max_iter=1000\n",
    "K=[1, 5, 10, 25, 50, 100]\n",
    "number_epochs=10\n",
    "learningRate=0.1\n",
    "BS=128"
   ]
  },
  {
   "cell_type": "code",
   "execution_count": 18,
   "metadata": {},
   "outputs": [],
   "source": [
    "modified_cifar10_dataset = [(x, y) for x,y in (test_dataset)]## to take 100 base samples for cat and 5 target samples for the deer class\n",
    "finetunetrainset=[(x, y) for x,y in (train_dataset)]"
   ]
  },
  {
   "cell_type": "code",
   "execution_count": 19,
   "metadata": {},
   "outputs": [
    {
     "name": "stdout",
     "output_type": "stream",
     "text": [
      "\n",
      "before trainset length 50000\n",
      "\n",
      "---------generating poisoned samples--------\n",
      "\n"
     ]
    },
    {
     "name": "stderr",
     "output_type": "stream",
     "text": [
      "100%|████████████████████████████████████████████████████████████████████████████████████| 1/1 [00:10<00:00, 10.79s/it]\n"
     ]
    },
    {
     "name": "stdout",
     "output_type": "stream",
     "text": [
      "\n",
      "after trainset length 50001\n",
      "\n",
      "--------finetuning--------\n",
      "\n"
     ]
    },
    {
     "name": "stderr",
     "output_type": "stream",
     "text": [
      "100%|████████████████████████████████████████████████████████████████████████████████| 391/391 [00:31<00:00, 12.41it/s]\n",
      "100%|████████████████████████████████████████████████████████████████████████████████| 391/391 [00:28<00:00, 13.91it/s]\n",
      "100%|████████████████████████████████████████████████████████████████████████████████| 391/391 [00:28<00:00, 13.74it/s]\n",
      "100%|████████████████████████████████████████████████████████████████████████████████| 391/391 [00:28<00:00, 13.63it/s]\n",
      "100%|████████████████████████████████████████████████████████████████████████████████| 391/391 [00:29<00:00, 13.44it/s]\n",
      "100%|████████████████████████████████████████████████████████████████████████████████| 391/391 [00:28<00:00, 13.68it/s]\n",
      "100%|████████████████████████████████████████████████████████████████████████████████| 391/391 [00:28<00:00, 13.90it/s]\n",
      "100%|████████████████████████████████████████████████████████████████████████████████| 391/391 [00:28<00:00, 13.85it/s]\n",
      "100%|████████████████████████████████████████████████████████████████████████████████| 391/391 [00:28<00:00, 13.73it/s]\n",
      "100%|████████████████████████████████████████████████████████████████████████████████| 391/391 [00:28<00:00, 13.65it/s]\n"
     ]
    },
    {
     "name": "stdout",
     "output_type": "stream",
     "text": [
      "--------testing--------\n",
      "prediction: tensor([0], device='cuda:0')\n",
      "not success :/\n",
      "\n",
      "before trainset length 50000\n",
      "\n",
      "---------generating poisoned samples--------\n",
      "\n"
     ]
    },
    {
     "name": "stderr",
     "output_type": "stream",
     "text": [
      "100%|████████████████████████████████████████████████████████████████████████████████████| 5/5 [00:55<00:00, 11.07s/it]\n"
     ]
    },
    {
     "name": "stdout",
     "output_type": "stream",
     "text": [
      "\n",
      "after trainset length 50005\n",
      "\n",
      "--------finetuning--------\n",
      "\n"
     ]
    },
    {
     "name": "stderr",
     "output_type": "stream",
     "text": [
      "100%|████████████████████████████████████████████████████████████████████████████████| 391/391 [00:27<00:00, 13.96it/s]\n",
      "100%|████████████████████████████████████████████████████████████████████████████████| 391/391 [00:28<00:00, 13.93it/s]\n",
      "100%|████████████████████████████████████████████████████████████████████████████████| 391/391 [00:28<00:00, 13.74it/s]\n",
      "100%|████████████████████████████████████████████████████████████████████████████████| 391/391 [00:31<00:00, 12.58it/s]\n",
      "100%|████████████████████████████████████████████████████████████████████████████████| 391/391 [00:28<00:00, 13.56it/s]\n",
      "100%|████████████████████████████████████████████████████████████████████████████████| 391/391 [00:28<00:00, 13.75it/s]\n",
      "100%|████████████████████████████████████████████████████████████████████████████████| 391/391 [00:28<00:00, 13.75it/s]\n",
      "100%|████████████████████████████████████████████████████████████████████████████████| 391/391 [00:29<00:00, 13.41it/s]\n",
      "100%|████████████████████████████████████████████████████████████████████████████████| 391/391 [00:28<00:00, 13.68it/s]\n",
      "100%|████████████████████████████████████████████████████████████████████████████████| 391/391 [00:28<00:00, 13.74it/s]\n"
     ]
    },
    {
     "name": "stdout",
     "output_type": "stream",
     "text": [
      "--------testing--------\n",
      "prediction: tensor([0], device='cuda:0')\n",
      "not success :/\n",
      "\n",
      "before trainset length 50000\n",
      "\n",
      "---------generating poisoned samples--------\n",
      "\n"
     ]
    },
    {
     "name": "stderr",
     "output_type": "stream",
     "text": [
      "100%|██████████████████████████████████████████████████████████████████████████████████| 10/10 [01:47<00:00, 10.73s/it]\n"
     ]
    },
    {
     "name": "stdout",
     "output_type": "stream",
     "text": [
      "\n",
      "after trainset length 50010\n",
      "\n",
      "--------finetuning--------\n",
      "\n"
     ]
    },
    {
     "name": "stderr",
     "output_type": "stream",
     "text": [
      "100%|████████████████████████████████████████████████████████████████████████████████| 391/391 [00:28<00:00, 13.56it/s]\n",
      "100%|████████████████████████████████████████████████████████████████████████████████| 391/391 [00:28<00:00, 13.82it/s]\n",
      "100%|████████████████████████████████████████████████████████████████████████████████| 391/391 [00:28<00:00, 13.74it/s]\n",
      "100%|████████████████████████████████████████████████████████████████████████████████| 391/391 [00:28<00:00, 13.76it/s]\n",
      "100%|████████████████████████████████████████████████████████████████████████████████| 391/391 [00:28<00:00, 13.66it/s]\n",
      "100%|████████████████████████████████████████████████████████████████████████████████| 391/391 [00:28<00:00, 13.73it/s]\n",
      "100%|████████████████████████████████████████████████████████████████████████████████| 391/391 [00:30<00:00, 12.75it/s]\n",
      "100%|████████████████████████████████████████████████████████████████████████████████| 391/391 [00:28<00:00, 13.50it/s]\n",
      "100%|████████████████████████████████████████████████████████████████████████████████| 391/391 [00:28<00:00, 13.61it/s]\n",
      "100%|████████████████████████████████████████████████████████████████████████████████| 391/391 [00:28<00:00, 13.84it/s]\n"
     ]
    },
    {
     "name": "stdout",
     "output_type": "stream",
     "text": [
      "--------testing--------\n",
      "prediction: tensor([0], device='cuda:0')\n",
      "not success :/\n",
      "\n",
      "before trainset length 50000\n",
      "\n",
      "---------generating poisoned samples--------\n",
      "\n"
     ]
    },
    {
     "name": "stderr",
     "output_type": "stream",
     "text": [
      "100%|██████████████████████████████████████████████████████████████████████████████████| 25/25 [04:29<00:00, 10.78s/it]\n"
     ]
    },
    {
     "name": "stdout",
     "output_type": "stream",
     "text": [
      "\n",
      "after trainset length 50025\n",
      "\n",
      "--------finetuning--------\n",
      "\n"
     ]
    },
    {
     "name": "stderr",
     "output_type": "stream",
     "text": [
      "100%|████████████████████████████████████████████████████████████████████████████████| 391/391 [00:28<00:00, 13.67it/s]\n",
      "100%|████████████████████████████████████████████████████████████████████████████████| 391/391 [00:30<00:00, 13.02it/s]\n",
      "100%|████████████████████████████████████████████████████████████████████████████████| 391/391 [00:28<00:00, 13.72it/s]\n",
      "100%|████████████████████████████████████████████████████████████████████████████████| 391/391 [00:28<00:00, 13.75it/s]\n",
      "100%|████████████████████████████████████████████████████████████████████████████████| 391/391 [00:28<00:00, 13.76it/s]\n",
      "100%|████████████████████████████████████████████████████████████████████████████████| 391/391 [00:28<00:00, 13.71it/s]\n",
      "100%|████████████████████████████████████████████████████████████████████████████████| 391/391 [00:28<00:00, 13.85it/s]\n",
      "100%|████████████████████████████████████████████████████████████████████████████████| 391/391 [00:29<00:00, 13.18it/s]\n",
      "100%|████████████████████████████████████████████████████████████████████████████████| 391/391 [00:28<00:00, 13.69it/s]\n",
      "100%|████████████████████████████████████████████████████████████████████████████████| 391/391 [00:28<00:00, 13.73it/s]\n"
     ]
    },
    {
     "name": "stdout",
     "output_type": "stream",
     "text": [
      "--------testing--------\n",
      "prediction: tensor([0], device='cuda:0')\n",
      "not success :/\n",
      "\n",
      "before trainset length 50000\n",
      "\n",
      "---------generating poisoned samples--------\n",
      "\n"
     ]
    },
    {
     "name": "stderr",
     "output_type": "stream",
     "text": [
      "100%|██████████████████████████████████████████████████████████████████████████████████| 50/50 [09:18<00:00, 11.16s/it]\n"
     ]
    },
    {
     "name": "stdout",
     "output_type": "stream",
     "text": [
      "\n",
      "after trainset length 50050\n",
      "\n",
      "--------finetuning--------\n",
      "\n"
     ]
    },
    {
     "name": "stderr",
     "output_type": "stream",
     "text": [
      "100%|████████████████████████████████████████████████████████████████████████████████| 392/392 [00:30<00:00, 13.00it/s]\n",
      "100%|████████████████████████████████████████████████████████████████████████████████| 392/392 [00:31<00:00, 12.29it/s]\n",
      "100%|████████████████████████████████████████████████████████████████████████████████| 392/392 [00:29<00:00, 13.45it/s]\n",
      "100%|████████████████████████████████████████████████████████████████████████████████| 392/392 [00:30<00:00, 12.97it/s]\n",
      "100%|████████████████████████████████████████████████████████████████████████████████| 392/392 [00:28<00:00, 13.68it/s]\n",
      "100%|████████████████████████████████████████████████████████████████████████████████| 392/392 [00:28<00:00, 13.88it/s]\n",
      "100%|████████████████████████████████████████████████████████████████████████████████| 392/392 [00:28<00:00, 13.76it/s]\n",
      "100%|████████████████████████████████████████████████████████████████████████████████| 392/392 [00:28<00:00, 13.88it/s]\n",
      "100%|████████████████████████████████████████████████████████████████████████████████| 392/392 [00:28<00:00, 13.68it/s]\n",
      "100%|████████████████████████████████████████████████████████████████████████████████| 392/392 [00:28<00:00, 13.60it/s]\n"
     ]
    },
    {
     "name": "stdout",
     "output_type": "stream",
     "text": [
      "--------testing--------\n",
      "prediction: tensor([3], device='cuda:0')\n",
      "success!!\n",
      "\n",
      "before trainset length 50000\n",
      "\n",
      "---------generating poisoned samples--------\n",
      "\n"
     ]
    },
    {
     "name": "stderr",
     "output_type": "stream",
     "text": [
      "100%|████████████████████████████████████████████████████████████████████████████████| 100/100 [18:04<00:00, 10.85s/it]\n"
     ]
    },
    {
     "name": "stdout",
     "output_type": "stream",
     "text": [
      "\n",
      "after trainset length 50100\n",
      "\n",
      "--------finetuning--------\n",
      "\n"
     ]
    },
    {
     "name": "stderr",
     "output_type": "stream",
     "text": [
      "100%|████████████████████████████████████████████████████████████████████████████████| 392/392 [00:28<00:00, 13.62it/s]\n",
      "100%|████████████████████████████████████████████████████████████████████████████████| 392/392 [00:28<00:00, 13.69it/s]\n",
      "100%|████████████████████████████████████████████████████████████████████████████████| 392/392 [00:28<00:00, 13.78it/s]\n",
      "100%|████████████████████████████████████████████████████████████████████████████████| 392/392 [00:28<00:00, 13.78it/s]\n",
      "100%|████████████████████████████████████████████████████████████████████████████████| 392/392 [00:28<00:00, 13.66it/s]\n",
      "100%|████████████████████████████████████████████████████████████████████████████████| 392/392 [00:28<00:00, 13.71it/s]\n",
      "100%|████████████████████████████████████████████████████████████████████████████████| 392/392 [00:28<00:00, 13.56it/s]\n",
      "100%|████████████████████████████████████████████████████████████████████████████████| 392/392 [00:28<00:00, 13.70it/s]\n",
      "100%|████████████████████████████████████████████████████████████████████████████████| 392/392 [00:28<00:00, 13.69it/s]\n",
      "100%|████████████████████████████████████████████████████████████████████████████████| 392/392 [00:28<00:00, 13.87it/s]\n"
     ]
    },
    {
     "name": "stdout",
     "output_type": "stream",
     "text": [
      "--------testing--------\n",
      "prediction: tensor([3], device='cuda:0')\n",
      "success!!\n",
      "\n",
      "before trainset length 50000\n",
      "\n",
      "---------generating poisoned samples--------\n",
      "\n"
     ]
    },
    {
     "name": "stderr",
     "output_type": "stream",
     "text": [
      "100%|████████████████████████████████████████████████████████████████████████████████████| 1/1 [00:10<00:00, 10.76s/it]\n"
     ]
    },
    {
     "name": "stdout",
     "output_type": "stream",
     "text": [
      "\n",
      "after trainset length 50001\n",
      "\n",
      "--------finetuning--------\n",
      "\n"
     ]
    },
    {
     "name": "stderr",
     "output_type": "stream",
     "text": [
      "100%|████████████████████████████████████████████████████████████████████████████████| 391/391 [00:28<00:00, 13.83it/s]\n",
      "100%|████████████████████████████████████████████████████████████████████████████████| 391/391 [00:28<00:00, 13.70it/s]\n",
      "100%|████████████████████████████████████████████████████████████████████████████████| 391/391 [00:28<00:00, 13.78it/s]\n",
      "100%|████████████████████████████████████████████████████████████████████████████████| 391/391 [00:30<00:00, 12.68it/s]\n",
      "100%|████████████████████████████████████████████████████████████████████████████████| 391/391 [00:28<00:00, 13.55it/s]\n",
      "100%|████████████████████████████████████████████████████████████████████████████████| 391/391 [00:29<00:00, 13.44it/s]\n",
      "100%|████████████████████████████████████████████████████████████████████████████████| 391/391 [00:28<00:00, 13.67it/s]\n",
      "100%|████████████████████████████████████████████████████████████████████████████████| 391/391 [00:30<00:00, 12.92it/s]\n",
      "100%|████████████████████████████████████████████████████████████████████████████████| 391/391 [00:28<00:00, 13.55it/s]\n",
      "100%|████████████████████████████████████████████████████████████████████████████████| 391/391 [00:28<00:00, 13.74it/s]\n"
     ]
    },
    {
     "name": "stdout",
     "output_type": "stream",
     "text": [
      "--------testing--------\n",
      "prediction: tensor([4], device='cuda:0')\n",
      "not success :/\n",
      "\n",
      "before trainset length 50000\n",
      "\n",
      "---------generating poisoned samples--------\n",
      "\n"
     ]
    },
    {
     "name": "stderr",
     "output_type": "stream",
     "text": [
      "100%|████████████████████████████████████████████████████████████████████████████████████| 5/5 [00:53<00:00, 10.74s/it]\n"
     ]
    },
    {
     "name": "stdout",
     "output_type": "stream",
     "text": [
      "\n",
      "after trainset length 50005\n",
      "\n",
      "--------finetuning--------\n",
      "\n"
     ]
    },
    {
     "name": "stderr",
     "output_type": "stream",
     "text": [
      "100%|████████████████████████████████████████████████████████████████████████████████| 391/391 [00:28<00:00, 13.71it/s]\n",
      "100%|████████████████████████████████████████████████████████████████████████████████| 391/391 [00:28<00:00, 13.66it/s]\n",
      "100%|████████████████████████████████████████████████████████████████████████████████| 391/391 [00:28<00:00, 13.73it/s]\n",
      "100%|████████████████████████████████████████████████████████████████████████████████| 391/391 [00:28<00:00, 13.77it/s]\n",
      "100%|████████████████████████████████████████████████████████████████████████████████| 391/391 [00:28<00:00, 13.82it/s]\n",
      "100%|████████████████████████████████████████████████████████████████████████████████| 391/391 [00:28<00:00, 13.74it/s]\n",
      "100%|████████████████████████████████████████████████████████████████████████████████| 391/391 [00:28<00:00, 13.65it/s]\n",
      "100%|████████████████████████████████████████████████████████████████████████████████| 391/391 [00:28<00:00, 13.76it/s]\n",
      "100%|████████████████████████████████████████████████████████████████████████████████| 391/391 [00:28<00:00, 13.83it/s]\n",
      "100%|████████████████████████████████████████████████████████████████████████████████| 391/391 [00:28<00:00, 13.75it/s]\n"
     ]
    },
    {
     "name": "stdout",
     "output_type": "stream",
     "text": [
      "--------testing--------\n",
      "prediction: tensor([4], device='cuda:0')\n",
      "not success :/\n",
      "\n",
      "before trainset length 50000\n",
      "\n",
      "---------generating poisoned samples--------\n",
      "\n"
     ]
    },
    {
     "name": "stderr",
     "output_type": "stream",
     "text": [
      "100%|██████████████████████████████████████████████████████████████████████████████████| 10/10 [01:48<00:00, 10.89s/it]\n"
     ]
    },
    {
     "name": "stdout",
     "output_type": "stream",
     "text": [
      "\n",
      "after trainset length 50010\n",
      "\n",
      "--------finetuning--------\n",
      "\n"
     ]
    },
    {
     "name": "stderr",
     "output_type": "stream",
     "text": [
      "100%|████████████████████████████████████████████████████████████████████████████████| 391/391 [00:28<00:00, 13.76it/s]\n",
      "100%|████████████████████████████████████████████████████████████████████████████████| 391/391 [00:28<00:00, 13.73it/s]\n",
      "100%|████████████████████████████████████████████████████████████████████████████████| 391/391 [00:28<00:00, 13.65it/s]\n",
      "100%|████████████████████████████████████████████████████████████████████████████████| 391/391 [00:28<00:00, 13.76it/s]\n",
      "100%|████████████████████████████████████████████████████████████████████████████████| 391/391 [00:28<00:00, 13.83it/s]\n",
      "100%|████████████████████████████████████████████████████████████████████████████████| 391/391 [00:28<00:00, 13.85it/s]\n",
      "100%|████████████████████████████████████████████████████████████████████████████████| 391/391 [00:29<00:00, 13.37it/s]\n",
      "100%|████████████████████████████████████████████████████████████████████████████████| 391/391 [00:31<00:00, 12.32it/s]\n",
      "100%|████████████████████████████████████████████████████████████████████████████████| 391/391 [00:31<00:00, 12.53it/s]\n",
      "100%|████████████████████████████████████████████████████████████████████████████████| 391/391 [00:28<00:00, 13.76it/s]\n"
     ]
    },
    {
     "name": "stdout",
     "output_type": "stream",
     "text": [
      "--------testing--------\n",
      "prediction: tensor([4], device='cuda:0')\n",
      "not success :/\n",
      "\n",
      "before trainset length 50000\n",
      "\n",
      "---------generating poisoned samples--------\n",
      "\n"
     ]
    },
    {
     "name": "stderr",
     "output_type": "stream",
     "text": [
      "100%|██████████████████████████████████████████████████████████████████████████████████| 25/25 [04:29<00:00, 10.80s/it]\n"
     ]
    },
    {
     "name": "stdout",
     "output_type": "stream",
     "text": [
      "\n",
      "after trainset length 50025\n",
      "\n",
      "--------finetuning--------\n",
      "\n"
     ]
    },
    {
     "name": "stderr",
     "output_type": "stream",
     "text": [
      "100%|████████████████████████████████████████████████████████████████████████████████| 391/391 [00:29<00:00, 13.17it/s]\n",
      "100%|████████████████████████████████████████████████████████████████████████████████| 391/391 [00:29<00:00, 13.28it/s]\n",
      "100%|████████████████████████████████████████████████████████████████████████████████| 391/391 [00:28<00:00, 13.74it/s]\n",
      "100%|████████████████████████████████████████████████████████████████████████████████| 391/391 [00:28<00:00, 13.73it/s]\n",
      "100%|████████████████████████████████████████████████████████████████████████████████| 391/391 [00:28<00:00, 13.56it/s]\n",
      "100%|████████████████████████████████████████████████████████████████████████████████| 391/391 [00:28<00:00, 13.73it/s]\n",
      "100%|████████████████████████████████████████████████████████████████████████████████| 391/391 [00:28<00:00, 13.86it/s]\n",
      "100%|████████████████████████████████████████████████████████████████████████████████| 391/391 [00:28<00:00, 13.74it/s]\n",
      "100%|████████████████████████████████████████████████████████████████████████████████| 391/391 [00:28<00:00, 13.84it/s]\n",
      "100%|████████████████████████████████████████████████████████████████████████████████| 391/391 [00:28<00:00, 13.65it/s]\n"
     ]
    },
    {
     "name": "stdout",
     "output_type": "stream",
     "text": [
      "--------testing--------\n",
      "prediction: tensor([3], device='cuda:0')\n",
      "success!!\n",
      "\n",
      "before trainset length 50000\n",
      "\n",
      "---------generating poisoned samples--------\n",
      "\n"
     ]
    },
    {
     "name": "stderr",
     "output_type": "stream",
     "text": [
      "100%|██████████████████████████████████████████████████████████████████████████████████| 50/50 [08:59<00:00, 10.79s/it]\n"
     ]
    },
    {
     "name": "stdout",
     "output_type": "stream",
     "text": [
      "\n",
      "after trainset length 50050\n",
      "\n",
      "--------finetuning--------\n",
      "\n"
     ]
    },
    {
     "name": "stderr",
     "output_type": "stream",
     "text": [
      "100%|████████████████████████████████████████████████████████████████████████████████| 392/392 [00:29<00:00, 13.40it/s]\n",
      "100%|████████████████████████████████████████████████████████████████████████████████| 392/392 [00:28<00:00, 13.78it/s]\n",
      "100%|████████████████████████████████████████████████████████████████████████████████| 392/392 [00:28<00:00, 13.79it/s]\n",
      "100%|████████████████████████████████████████████████████████████████████████████████| 392/392 [00:28<00:00, 13.56it/s]\n",
      "100%|████████████████████████████████████████████████████████████████████████████████| 392/392 [00:28<00:00, 13.71it/s]\n",
      "100%|████████████████████████████████████████████████████████████████████████████████| 392/392 [00:28<00:00, 13.78it/s]\n",
      "100%|████████████████████████████████████████████████████████████████████████████████| 392/392 [00:28<00:00, 13.78it/s]\n",
      "100%|████████████████████████████████████████████████████████████████████████████████| 392/392 [00:28<00:00, 13.86it/s]\n",
      "100%|████████████████████████████████████████████████████████████████████████████████| 392/392 [00:29<00:00, 13.24it/s]\n",
      "100%|████████████████████████████████████████████████████████████████████████████████| 392/392 [00:28<00:00, 13.67it/s]\n"
     ]
    },
    {
     "name": "stdout",
     "output_type": "stream",
     "text": [
      "--------testing--------\n",
      "prediction: tensor([3], device='cuda:0')\n",
      "success!!\n",
      "\n",
      "before trainset length 50000\n",
      "\n",
      "---------generating poisoned samples--------\n",
      "\n"
     ]
    },
    {
     "name": "stderr",
     "output_type": "stream",
     "text": [
      "100%|████████████████████████████████████████████████████████████████████████████████| 100/100 [18:00<00:00, 10.80s/it]\n"
     ]
    },
    {
     "name": "stdout",
     "output_type": "stream",
     "text": [
      "\n",
      "after trainset length 50100\n",
      "\n",
      "--------finetuning--------\n",
      "\n"
     ]
    },
    {
     "name": "stderr",
     "output_type": "stream",
     "text": [
      "100%|████████████████████████████████████████████████████████████████████████████████| 392/392 [00:28<00:00, 13.72it/s]\n",
      "100%|████████████████████████████████████████████████████████████████████████████████| 392/392 [00:28<00:00, 13.68it/s]\n",
      "100%|████████████████████████████████████████████████████████████████████████████████| 392/392 [00:28<00:00, 13.70it/s]\n",
      "100%|████████████████████████████████████████████████████████████████████████████████| 392/392 [00:28<00:00, 13.57it/s]\n",
      "100%|████████████████████████████████████████████████████████████████████████████████| 392/392 [00:28<00:00, 13.69it/s]\n",
      "100%|████████████████████████████████████████████████████████████████████████████████| 392/392 [00:28<00:00, 13.72it/s]\n",
      "100%|████████████████████████████████████████████████████████████████████████████████| 392/392 [00:28<00:00, 13.64it/s]\n",
      "100%|████████████████████████████████████████████████████████████████████████████████| 392/392 [00:30<00:00, 12.78it/s]\n",
      "100%|████████████████████████████████████████████████████████████████████████████████| 392/392 [00:29<00:00, 13.49it/s]\n",
      "100%|████████████████████████████████████████████████████████████████████████████████| 392/392 [00:28<00:00, 13.61it/s]\n"
     ]
    },
    {
     "name": "stdout",
     "output_type": "stream",
     "text": [
      "--------testing--------\n",
      "prediction: tensor([3], device='cuda:0')\n",
      "success!!\n",
      "\n",
      "before trainset length 50000\n",
      "\n",
      "---------generating poisoned samples--------\n",
      "\n"
     ]
    },
    {
     "name": "stderr",
     "output_type": "stream",
     "text": [
      "100%|████████████████████████████████████████████████████████████████████████████████████| 1/1 [00:10<00:00, 10.66s/it]\n"
     ]
    },
    {
     "name": "stdout",
     "output_type": "stream",
     "text": [
      "\n",
      "after trainset length 50001\n",
      "\n",
      "--------finetuning--------\n",
      "\n"
     ]
    },
    {
     "name": "stderr",
     "output_type": "stream",
     "text": [
      "100%|████████████████████████████████████████████████████████████████████████████████| 391/391 [00:28<00:00, 13.67it/s]\n",
      "100%|████████████████████████████████████████████████████████████████████████████████| 391/391 [00:28<00:00, 13.65it/s]\n",
      "100%|████████████████████████████████████████████████████████████████████████████████| 391/391 [00:28<00:00, 13.75it/s]\n",
      "100%|████████████████████████████████████████████████████████████████████████████████| 391/391 [00:28<00:00, 13.73it/s]\n",
      "100%|████████████████████████████████████████████████████████████████████████████████| 391/391 [00:28<00:00, 13.84it/s]\n",
      "100%|████████████████████████████████████████████████████████████████████████████████| 391/391 [00:28<00:00, 13.73it/s]\n",
      "100%|████████████████████████████████████████████████████████████████████████████████| 391/391 [00:28<00:00, 13.68it/s]\n",
      "100%|████████████████████████████████████████████████████████████████████████████████| 391/391 [00:28<00:00, 13.73it/s]\n",
      "100%|████████████████████████████████████████████████████████████████████████████████| 391/391 [00:28<00:00, 13.75it/s]\n",
      "100%|████████████████████████████████████████████████████████████████████████████████| 391/391 [00:28<00:00, 13.74it/s]\n"
     ]
    },
    {
     "name": "stdout",
     "output_type": "stream",
     "text": [
      "--------testing--------\n",
      "prediction: tensor([4], device='cuda:0')\n",
      "not success :/\n",
      "\n",
      "before trainset length 50000\n",
      "\n",
      "---------generating poisoned samples--------\n",
      "\n"
     ]
    },
    {
     "name": "stderr",
     "output_type": "stream",
     "text": [
      "100%|████████████████████████████████████████████████████████████████████████████████████| 5/5 [00:54<00:00, 10.91s/it]\n"
     ]
    },
    {
     "name": "stdout",
     "output_type": "stream",
     "text": [
      "\n",
      "after trainset length 50005\n",
      "\n",
      "--------finetuning--------\n",
      "\n"
     ]
    },
    {
     "name": "stderr",
     "output_type": "stream",
     "text": [
      "100%|████████████████████████████████████████████████████████████████████████████████| 391/391 [00:28<00:00, 13.85it/s]\n",
      "100%|████████████████████████████████████████████████████████████████████████████████| 391/391 [00:28<00:00, 13.84it/s]\n",
      "100%|████████████████████████████████████████████████████████████████████████████████| 391/391 [00:28<00:00, 13.94it/s]\n",
      "100%|████████████████████████████████████████████████████████████████████████████████| 391/391 [00:28<00:00, 13.94it/s]\n",
      "100%|████████████████████████████████████████████████████████████████████████████████| 391/391 [00:28<00:00, 13.83it/s]\n",
      "100%|████████████████████████████████████████████████████████████████████████████████| 391/391 [00:28<00:00, 13.57it/s]\n",
      "100%|████████████████████████████████████████████████████████████████████████████████| 391/391 [00:29<00:00, 13.35it/s]\n",
      "100%|████████████████████████████████████████████████████████████████████████████████| 391/391 [00:28<00:00, 13.78it/s]\n",
      "100%|████████████████████████████████████████████████████████████████████████████████| 391/391 [00:28<00:00, 13.72it/s]\n",
      "100%|████████████████████████████████████████████████████████████████████████████████| 391/391 [00:28<00:00, 13.55it/s]\n"
     ]
    },
    {
     "name": "stdout",
     "output_type": "stream",
     "text": [
      "--------testing--------\n",
      "prediction: tensor([4], device='cuda:0')\n",
      "not success :/\n",
      "\n",
      "before trainset length 50000\n",
      "\n",
      "---------generating poisoned samples--------\n",
      "\n"
     ]
    },
    {
     "name": "stderr",
     "output_type": "stream",
     "text": [
      "100%|██████████████████████████████████████████████████████████████████████████████████| 10/10 [01:53<00:00, 11.35s/it]\n"
     ]
    },
    {
     "name": "stdout",
     "output_type": "stream",
     "text": [
      "\n",
      "after trainset length 50010\n",
      "\n",
      "--------finetuning--------\n",
      "\n"
     ]
    },
    {
     "name": "stderr",
     "output_type": "stream",
     "text": [
      "100%|████████████████████████████████████████████████████████████████████████████████| 391/391 [00:30<00:00, 12.75it/s]\n",
      "100%|████████████████████████████████████████████████████████████████████████████████| 391/391 [00:28<00:00, 13.65it/s]\n",
      "100%|████████████████████████████████████████████████████████████████████████████████| 391/391 [00:28<00:00, 13.75it/s]\n",
      "100%|████████████████████████████████████████████████████████████████████████████████| 391/391 [00:28<00:00, 13.58it/s]\n",
      "100%|████████████████████████████████████████████████████████████████████████████████| 391/391 [00:32<00:00, 12.12it/s]\n",
      "100%|████████████████████████████████████████████████████████████████████████████████| 391/391 [00:32<00:00, 12.19it/s]\n",
      "100%|████████████████████████████████████████████████████████████████████████████████| 391/391 [00:32<00:00, 11.95it/s]\n",
      "100%|████████████████████████████████████████████████████████████████████████████████| 391/391 [00:32<00:00, 12.22it/s]\n",
      "100%|████████████████████████████████████████████████████████████████████████████████| 391/391 [00:32<00:00, 12.11it/s]\n",
      "100%|████████████████████████████████████████████████████████████████████████████████| 391/391 [00:33<00:00, 11.83it/s]\n"
     ]
    },
    {
     "name": "stdout",
     "output_type": "stream",
     "text": [
      "--------testing--------\n",
      "prediction: tensor([4], device='cuda:0')\n",
      "not success :/\n",
      "\n",
      "before trainset length 50000\n",
      "\n",
      "---------generating poisoned samples--------\n",
      "\n"
     ]
    },
    {
     "name": "stderr",
     "output_type": "stream",
     "text": [
      "100%|██████████████████████████████████████████████████████████████████████████████████| 25/25 [04:37<00:00, 11.10s/it]\n"
     ]
    },
    {
     "name": "stdout",
     "output_type": "stream",
     "text": [
      "\n",
      "after trainset length 50025\n",
      "\n",
      "--------finetuning--------\n",
      "\n"
     ]
    },
    {
     "name": "stderr",
     "output_type": "stream",
     "text": [
      "100%|████████████████████████████████████████████████████████████████████████████████| 391/391 [00:28<00:00, 13.52it/s]\n",
      "100%|████████████████████████████████████████████████████████████████████████████████| 391/391 [00:28<00:00, 13.66it/s]\n",
      "100%|████████████████████████████████████████████████████████████████████████████████| 391/391 [00:28<00:00, 13.84it/s]\n",
      "100%|████████████████████████████████████████████████████████████████████████████████| 391/391 [00:28<00:00, 13.94it/s]\n",
      "100%|████████████████████████████████████████████████████████████████████████████████| 391/391 [00:28<00:00, 13.73it/s]\n",
      "100%|████████████████████████████████████████████████████████████████████████████████| 391/391 [00:29<00:00, 13.44it/s]\n",
      "100%|████████████████████████████████████████████████████████████████████████████████| 391/391 [00:29<00:00, 13.11it/s]\n",
      "100%|████████████████████████████████████████████████████████████████████████████████| 391/391 [00:28<00:00, 13.66it/s]\n",
      "100%|████████████████████████████████████████████████████████████████████████████████| 391/391 [00:28<00:00, 13.84it/s]\n",
      "100%|████████████████████████████████████████████████████████████████████████████████| 391/391 [00:28<00:00, 13.65it/s]\n"
     ]
    },
    {
     "name": "stdout",
     "output_type": "stream",
     "text": [
      "--------testing--------\n",
      "prediction: tensor([3], device='cuda:0')\n",
      "success!!\n",
      "\n",
      "before trainset length 50000\n",
      "\n",
      "---------generating poisoned samples--------\n",
      "\n"
     ]
    },
    {
     "name": "stderr",
     "output_type": "stream",
     "text": [
      "100%|██████████████████████████████████████████████████████████████████████████████████| 50/50 [09:00<00:00, 10.80s/it]\n"
     ]
    },
    {
     "name": "stdout",
     "output_type": "stream",
     "text": [
      "\n",
      "after trainset length 50050\n",
      "\n",
      "--------finetuning--------\n",
      "\n"
     ]
    },
    {
     "name": "stderr",
     "output_type": "stream",
     "text": [
      "100%|████████████████████████████████████████████████████████████████████████████████| 392/392 [00:30<00:00, 13.01it/s]\n",
      "100%|████████████████████████████████████████████████████████████████████████████████| 392/392 [00:28<00:00, 13.67it/s]\n",
      "100%|████████████████████████████████████████████████████████████████████████████████| 392/392 [00:28<00:00, 14.00it/s]\n",
      "100%|████████████████████████████████████████████████████████████████████████████████| 392/392 [00:28<00:00, 13.86it/s]\n",
      "100%|████████████████████████████████████████████████████████████████████████████████| 392/392 [00:28<00:00, 13.61it/s]\n",
      "100%|████████████████████████████████████████████████████████████████████████████████| 392/392 [00:30<00:00, 13.03it/s]\n",
      "100%|████████████████████████████████████████████████████████████████████████████████| 392/392 [00:28<00:00, 13.89it/s]\n",
      "100%|████████████████████████████████████████████████████████████████████████████████| 392/392 [00:28<00:00, 13.78it/s]\n",
      "100%|████████████████████████████████████████████████████████████████████████████████| 392/392 [00:28<00:00, 13.77it/s]\n",
      "100%|████████████████████████████████████████████████████████████████████████████████| 392/392 [00:28<00:00, 13.58it/s]\n"
     ]
    },
    {
     "name": "stdout",
     "output_type": "stream",
     "text": [
      "--------testing--------\n",
      "prediction: tensor([3], device='cuda:0')\n",
      "success!!\n",
      "\n",
      "before trainset length 50000\n",
      "\n",
      "---------generating poisoned samples--------\n",
      "\n"
     ]
    },
    {
     "name": "stderr",
     "output_type": "stream",
     "text": [
      "100%|████████████████████████████████████████████████████████████████████████████████| 100/100 [18:02<00:00, 10.82s/it]\n"
     ]
    },
    {
     "name": "stdout",
     "output_type": "stream",
     "text": [
      "\n",
      "after trainset length 50100\n",
      "\n",
      "--------finetuning--------\n",
      "\n"
     ]
    },
    {
     "name": "stderr",
     "output_type": "stream",
     "text": [
      "100%|████████████████████████████████████████████████████████████████████████████████| 392/392 [00:28<00:00, 13.58it/s]\n",
      "100%|████████████████████████████████████████████████████████████████████████████████| 392/392 [00:28<00:00, 13.63it/s]\n",
      "100%|████████████████████████████████████████████████████████████████████████████████| 392/392 [00:28<00:00, 13.52it/s]\n",
      "100%|████████████████████████████████████████████████████████████████████████████████| 392/392 [00:28<00:00, 13.55it/s]\n",
      "100%|████████████████████████████████████████████████████████████████████████████████| 392/392 [00:28<00:00, 13.70it/s]\n",
      "100%|████████████████████████████████████████████████████████████████████████████████| 392/392 [00:28<00:00, 13.76it/s]\n",
      "100%|████████████████████████████████████████████████████████████████████████████████| 392/392 [00:28<00:00, 13.77it/s]\n",
      "100%|████████████████████████████████████████████████████████████████████████████████| 392/392 [00:28<00:00, 13.78it/s]\n",
      "100%|████████████████████████████████████████████████████████████████████████████████| 392/392 [00:28<00:00, 13.78it/s]\n",
      "100%|████████████████████████████████████████████████████████████████████████████████| 392/392 [00:28<00:00, 13.81it/s]\n"
     ]
    },
    {
     "name": "stdout",
     "output_type": "stream",
     "text": [
      "--------testing--------\n",
      "prediction: tensor([3], device='cuda:0')\n",
      "success!!\n",
      "\n",
      "before trainset length 50000\n",
      "\n",
      "---------generating poisoned samples--------\n",
      "\n"
     ]
    },
    {
     "name": "stderr",
     "output_type": "stream",
     "text": [
      "100%|████████████████████████████████████████████████████████████████████████████████████| 1/1 [00:10<00:00, 10.76s/it]\n"
     ]
    },
    {
     "name": "stdout",
     "output_type": "stream",
     "text": [
      "\n",
      "after trainset length 50001\n",
      "\n",
      "--------finetuning--------\n",
      "\n"
     ]
    },
    {
     "name": "stderr",
     "output_type": "stream",
     "text": [
      "100%|████████████████████████████████████████████████████████████████████████████████| 391/391 [00:28<00:00, 13.71it/s]\n",
      "100%|████████████████████████████████████████████████████████████████████████████████| 391/391 [00:28<00:00, 13.76it/s]\n",
      "100%|████████████████████████████████████████████████████████████████████████████████| 391/391 [00:28<00:00, 13.73it/s]\n",
      "100%|████████████████████████████████████████████████████████████████████████████████| 391/391 [00:28<00:00, 13.74it/s]\n",
      "100%|████████████████████████████████████████████████████████████████████████████████| 391/391 [00:28<00:00, 13.76it/s]\n",
      "100%|████████████████████████████████████████████████████████████████████████████████| 391/391 [00:28<00:00, 13.82it/s]\n",
      "100%|████████████████████████████████████████████████████████████████████████████████| 391/391 [00:28<00:00, 13.76it/s]\n",
      "100%|████████████████████████████████████████████████████████████████████████████████| 391/391 [00:28<00:00, 13.74it/s]\n",
      "100%|████████████████████████████████████████████████████████████████████████████████| 391/391 [00:28<00:00, 13.85it/s]\n",
      "100%|████████████████████████████████████████████████████████████████████████████████| 391/391 [00:28<00:00, 13.66it/s]\n"
     ]
    },
    {
     "name": "stdout",
     "output_type": "stream",
     "text": [
      "--------testing--------\n",
      "prediction: tensor([5], device='cuda:0')\n",
      "not success :/\n",
      "\n",
      "before trainset length 50000\n",
      "\n",
      "---------generating poisoned samples--------\n",
      "\n"
     ]
    },
    {
     "name": "stderr",
     "output_type": "stream",
     "text": [
      "100%|████████████████████████████████████████████████████████████████████████████████████| 5/5 [00:54<00:00, 10.87s/it]\n"
     ]
    },
    {
     "name": "stdout",
     "output_type": "stream",
     "text": [
      "\n",
      "after trainset length 50005\n",
      "\n",
      "--------finetuning--------\n",
      "\n"
     ]
    },
    {
     "name": "stderr",
     "output_type": "stream",
     "text": [
      "100%|████████████████████████████████████████████████████████████████████████████████| 391/391 [00:28<00:00, 13.83it/s]\n",
      "100%|████████████████████████████████████████████████████████████████████████████████| 391/391 [00:28<00:00, 13.84it/s]\n",
      "100%|████████████████████████████████████████████████████████████████████████████████| 391/391 [00:28<00:00, 13.83it/s]\n",
      "100%|████████████████████████████████████████████████████████████████████████████████| 391/391 [00:28<00:00, 13.67it/s]\n",
      "100%|████████████████████████████████████████████████████████████████████████████████| 391/391 [00:28<00:00, 13.83it/s]\n",
      "100%|████████████████████████████████████████████████████████████████████████████████| 391/391 [00:28<00:00, 13.75it/s]\n",
      "100%|████████████████████████████████████████████████████████████████████████████████| 391/391 [00:28<00:00, 13.64it/s]\n",
      "100%|████████████████████████████████████████████████████████████████████████████████| 391/391 [00:28<00:00, 13.55it/s]\n",
      "100%|████████████████████████████████████████████████████████████████████████████████| 391/391 [00:28<00:00, 13.74it/s]\n",
      "100%|████████████████████████████████████████████████████████████████████████████████| 391/391 [00:28<00:00, 13.73it/s]\n"
     ]
    },
    {
     "name": "stdout",
     "output_type": "stream",
     "text": [
      "--------testing--------\n",
      "prediction: tensor([4], device='cuda:0')\n",
      "not success :/\n",
      "\n",
      "before trainset length 50000\n",
      "\n",
      "---------generating poisoned samples--------\n",
      "\n"
     ]
    },
    {
     "name": "stderr",
     "output_type": "stream",
     "text": [
      "100%|██████████████████████████████████████████████████████████████████████████████████| 10/10 [01:47<00:00, 10.75s/it]\n"
     ]
    },
    {
     "name": "stdout",
     "output_type": "stream",
     "text": [
      "\n",
      "after trainset length 50010\n",
      "\n",
      "--------finetuning--------\n",
      "\n"
     ]
    },
    {
     "name": "stderr",
     "output_type": "stream",
     "text": [
      "100%|████████████████████████████████████████████████████████████████████████████████| 391/391 [00:28<00:00, 13.80it/s]\n",
      "100%|████████████████████████████████████████████████████████████████████████████████| 391/391 [00:28<00:00, 13.76it/s]\n",
      "100%|████████████████████████████████████████████████████████████████████████████████| 391/391 [00:28<00:00, 13.84it/s]\n",
      "100%|████████████████████████████████████████████████████████████████████████████████| 391/391 [00:28<00:00, 13.82it/s]\n",
      "100%|████████████████████████████████████████████████████████████████████████████████| 391/391 [00:28<00:00, 13.75it/s]\n",
      "100%|████████████████████████████████████████████████████████████████████████████████| 391/391 [00:30<00:00, 12.92it/s]\n",
      "100%|████████████████████████████████████████████████████████████████████████████████| 391/391 [00:28<00:00, 13.65it/s]\n",
      "100%|████████████████████████████████████████████████████████████████████████████████| 391/391 [00:28<00:00, 13.75it/s]\n",
      "100%|████████████████████████████████████████████████████████████████████████████████| 391/391 [00:28<00:00, 13.73it/s]\n",
      "100%|████████████████████████████████████████████████████████████████████████████████| 391/391 [00:28<00:00, 13.56it/s]\n"
     ]
    },
    {
     "name": "stdout",
     "output_type": "stream",
     "text": [
      "--------testing--------\n",
      "prediction: tensor([5], device='cuda:0')\n",
      "not success :/\n",
      "\n",
      "before trainset length 50000\n",
      "\n",
      "---------generating poisoned samples--------\n",
      "\n"
     ]
    },
    {
     "name": "stderr",
     "output_type": "stream",
     "text": [
      "100%|██████████████████████████████████████████████████████████████████████████████████| 25/25 [04:29<00:00, 10.78s/it]\n"
     ]
    },
    {
     "name": "stdout",
     "output_type": "stream",
     "text": [
      "\n",
      "after trainset length 50025\n",
      "\n",
      "--------finetuning--------\n",
      "\n"
     ]
    },
    {
     "name": "stderr",
     "output_type": "stream",
     "text": [
      "100%|████████████████████████████████████████████████████████████████████████████████| 391/391 [00:28<00:00, 13.53it/s]\n",
      "100%|████████████████████████████████████████████████████████████████████████████████| 391/391 [00:28<00:00, 13.65it/s]\n",
      "100%|████████████████████████████████████████████████████████████████████████████████| 391/391 [00:28<00:00, 13.74it/s]\n",
      "100%|████████████████████████████████████████████████████████████████████████████████| 391/391 [00:28<00:00, 13.66it/s]\n",
      "100%|████████████████████████████████████████████████████████████████████████████████| 391/391 [00:28<00:00, 13.84it/s]\n",
      "100%|████████████████████████████████████████████████████████████████████████████████| 391/391 [00:28<00:00, 13.75it/s]\n",
      "100%|████████████████████████████████████████████████████████████████████████████████| 391/391 [00:29<00:00, 13.10it/s]\n",
      "100%|████████████████████████████████████████████████████████████████████████████████| 391/391 [00:28<00:00, 13.72it/s]\n",
      "100%|████████████████████████████████████████████████████████████████████████████████| 391/391 [00:29<00:00, 13.28it/s]\n",
      "100%|████████████████████████████████████████████████████████████████████████████████| 391/391 [00:28<00:00, 13.94it/s]\n"
     ]
    },
    {
     "name": "stdout",
     "output_type": "stream",
     "text": [
      "--------testing--------\n",
      "prediction: tensor([3], device='cuda:0')\n",
      "success!!\n",
      "\n",
      "before trainset length 50000\n",
      "\n",
      "---------generating poisoned samples--------\n",
      "\n"
     ]
    },
    {
     "name": "stderr",
     "output_type": "stream",
     "text": [
      "100%|██████████████████████████████████████████████████████████████████████████████████| 50/50 [09:00<00:00, 10.80s/it]\n"
     ]
    },
    {
     "name": "stdout",
     "output_type": "stream",
     "text": [
      "\n",
      "after trainset length 50050\n",
      "\n",
      "--------finetuning--------\n",
      "\n"
     ]
    },
    {
     "name": "stderr",
     "output_type": "stream",
     "text": [
      "100%|████████████████████████████████████████████████████████████████████████████████| 392/392 [00:28<00:00, 13.68it/s]\n",
      "100%|████████████████████████████████████████████████████████████████████████████████| 392/392 [00:28<00:00, 13.78it/s]\n",
      "100%|████████████████████████████████████████████████████████████████████████████████| 392/392 [00:28<00:00, 13.87it/s]\n",
      "100%|████████████████████████████████████████████████████████████████████████████████| 392/392 [00:28<00:00, 13.67it/s]\n",
      "100%|████████████████████████████████████████████████████████████████████████████████| 392/392 [00:28<00:00, 13.67it/s]\n",
      "100%|████████████████████████████████████████████████████████████████████████████████| 392/392 [00:28<00:00, 13.71it/s]\n",
      "100%|████████████████████████████████████████████████████████████████████████████████| 392/392 [00:28<00:00, 13.68it/s]\n",
      "100%|████████████████████████████████████████████████████████████████████████████████| 392/392 [00:28<00:00, 13.68it/s]\n",
      "100%|████████████████████████████████████████████████████████████████████████████████| 392/392 [00:28<00:00, 13.86it/s]\n",
      "100%|████████████████████████████████████████████████████████████████████████████████| 392/392 [00:28<00:00, 13.71it/s]\n"
     ]
    },
    {
     "name": "stdout",
     "output_type": "stream",
     "text": [
      "--------testing--------\n",
      "prediction: tensor([3], device='cuda:0')\n",
      "success!!\n",
      "\n",
      "before trainset length 50000\n",
      "\n",
      "---------generating poisoned samples--------\n",
      "\n"
     ]
    },
    {
     "name": "stderr",
     "output_type": "stream",
     "text": [
      "100%|████████████████████████████████████████████████████████████████████████████████| 100/100 [18:01<00:00, 10.81s/it]\n"
     ]
    },
    {
     "name": "stdout",
     "output_type": "stream",
     "text": [
      "\n",
      "after trainset length 50100\n",
      "\n",
      "--------finetuning--------\n",
      "\n"
     ]
    },
    {
     "name": "stderr",
     "output_type": "stream",
     "text": [
      "100%|████████████████████████████████████████████████████████████████████████████████| 392/392 [00:29<00:00, 13.17it/s]\n",
      "100%|████████████████████████████████████████████████████████████████████████████████| 392/392 [00:28<00:00, 13.58it/s]\n",
      "100%|████████████████████████████████████████████████████████████████████████████████| 392/392 [00:28<00:00, 13.57it/s]\n",
      "100%|████████████████████████████████████████████████████████████████████████████████| 392/392 [00:28<00:00, 13.70it/s]\n",
      "100%|████████████████████████████████████████████████████████████████████████████████| 392/392 [00:28<00:00, 13.68it/s]\n",
      "100%|████████████████████████████████████████████████████████████████████████████████| 392/392 [00:28<00:00, 13.78it/s]\n",
      "100%|████████████████████████████████████████████████████████████████████████████████| 392/392 [00:28<00:00, 13.59it/s]\n",
      "100%|████████████████████████████████████████████████████████████████████████████████| 392/392 [00:28<00:00, 13.69it/s]\n",
      "100%|████████████████████████████████████████████████████████████████████████████████| 392/392 [00:28<00:00, 13.77it/s]\n",
      "100%|████████████████████████████████████████████████████████████████████████████████| 392/392 [00:28<00:00, 13.78it/s]\n"
     ]
    },
    {
     "name": "stdout",
     "output_type": "stream",
     "text": [
      "--------testing--------\n",
      "prediction: tensor([3], device='cuda:0')\n",
      "success!!\n",
      "\n",
      "before trainset length 50000\n",
      "\n",
      "---------generating poisoned samples--------\n",
      "\n"
     ]
    },
    {
     "name": "stderr",
     "output_type": "stream",
     "text": [
      "100%|████████████████████████████████████████████████████████████████████████████████████| 1/1 [00:10<00:00, 10.82s/it]\n"
     ]
    },
    {
     "name": "stdout",
     "output_type": "stream",
     "text": [
      "\n",
      "after trainset length 50001\n",
      "\n",
      "--------finetuning--------\n",
      "\n"
     ]
    },
    {
     "name": "stderr",
     "output_type": "stream",
     "text": [
      "100%|████████████████████████████████████████████████████████████████████████████████| 391/391 [00:28<00:00, 13.66it/s]\n",
      "100%|████████████████████████████████████████████████████████████████████████████████| 391/391 [00:28<00:00, 13.73it/s]\n",
      "100%|████████████████████████████████████████████████████████████████████████████████| 391/391 [00:28<00:00, 13.65it/s]\n",
      "100%|████████████████████████████████████████████████████████████████████████████████| 391/391 [00:30<00:00, 12.77it/s]\n",
      "100%|████████████████████████████████████████████████████████████████████████████████| 391/391 [00:28<00:00, 13.62it/s]\n",
      "100%|████████████████████████████████████████████████████████████████████████████████| 391/391 [00:28<00:00, 13.77it/s]\n",
      "100%|████████████████████████████████████████████████████████████████████████████████| 391/391 [00:28<00:00, 13.72it/s]\n",
      "100%|████████████████████████████████████████████████████████████████████████████████| 391/391 [00:28<00:00, 13.64it/s]\n",
      "100%|████████████████████████████████████████████████████████████████████████████████| 391/391 [00:28<00:00, 13.56it/s]\n",
      "100%|████████████████████████████████████████████████████████████████████████████████| 391/391 [00:28<00:00, 13.84it/s]\n"
     ]
    },
    {
     "name": "stdout",
     "output_type": "stream",
     "text": [
      "--------testing--------\n",
      "prediction: tensor([4], device='cuda:0')\n",
      "not success :/\n",
      "\n",
      "before trainset length 50000\n",
      "\n",
      "---------generating poisoned samples--------\n",
      "\n"
     ]
    },
    {
     "name": "stderr",
     "output_type": "stream",
     "text": [
      "100%|████████████████████████████████████████████████████████████████████████████████████| 5/5 [00:53<00:00, 10.73s/it]\n"
     ]
    },
    {
     "name": "stdout",
     "output_type": "stream",
     "text": [
      "\n",
      "after trainset length 50005\n",
      "\n",
      "--------finetuning--------\n",
      "\n"
     ]
    },
    {
     "name": "stderr",
     "output_type": "stream",
     "text": [
      "100%|████████████████████████████████████████████████████████████████████████████████| 391/391 [00:28<00:00, 13.60it/s]\n",
      "100%|████████████████████████████████████████████████████████████████████████████████| 391/391 [00:28<00:00, 13.65it/s]\n",
      "100%|████████████████████████████████████████████████████████████████████████████████| 391/391 [00:28<00:00, 13.74it/s]\n",
      "100%|████████████████████████████████████████████████████████████████████████████████| 391/391 [00:29<00:00, 13.44it/s]\n",
      "100%|████████████████████████████████████████████████████████████████████████████████| 391/391 [00:28<00:00, 13.57it/s]\n",
      "100%|████████████████████████████████████████████████████████████████████████████████| 391/391 [00:28<00:00, 13.74it/s]\n",
      "100%|████████████████████████████████████████████████████████████████████████████████| 391/391 [00:28<00:00, 13.75it/s]\n",
      "100%|████████████████████████████████████████████████████████████████████████████████| 391/391 [00:28<00:00, 13.75it/s]\n",
      "100%|████████████████████████████████████████████████████████████████████████████████| 391/391 [00:28<00:00, 13.74it/s]\n",
      "100%|████████████████████████████████████████████████████████████████████████████████| 391/391 [00:28<00:00, 13.74it/s]\n"
     ]
    },
    {
     "name": "stdout",
     "output_type": "stream",
     "text": [
      "--------testing--------\n",
      "prediction: tensor([4], device='cuda:0')\n",
      "not success :/\n",
      "\n",
      "before trainset length 50000\n",
      "\n",
      "---------generating poisoned samples--------\n",
      "\n"
     ]
    },
    {
     "name": "stderr",
     "output_type": "stream",
     "text": [
      "100%|██████████████████████████████████████████████████████████████████████████████████| 10/10 [01:49<00:00, 10.95s/it]\n"
     ]
    },
    {
     "name": "stdout",
     "output_type": "stream",
     "text": [
      "\n",
      "after trainset length 50010\n",
      "\n",
      "--------finetuning--------\n",
      "\n"
     ]
    },
    {
     "name": "stderr",
     "output_type": "stream",
     "text": [
      "100%|████████████████████████████████████████████████████████████████████████████████| 391/391 [00:28<00:00, 13.74it/s]\n",
      "100%|████████████████████████████████████████████████████████████████████████████████| 391/391 [00:28<00:00, 13.83it/s]\n",
      "100%|████████████████████████████████████████████████████████████████████████████████| 391/391 [00:28<00:00, 13.74it/s]\n",
      "100%|████████████████████████████████████████████████████████████████████████████████| 391/391 [00:28<00:00, 13.65it/s]\n",
      "100%|████████████████████████████████████████████████████████████████████████████████| 391/391 [00:28<00:00, 13.55it/s]\n",
      "100%|████████████████████████████████████████████████████████████████████████████████| 391/391 [00:28<00:00, 13.73it/s]\n",
      "100%|████████████████████████████████████████████████████████████████████████████████| 391/391 [00:28<00:00, 13.75it/s]\n",
      "100%|████████████████████████████████████████████████████████████████████████████████| 391/391 [00:28<00:00, 13.75it/s]\n",
      "100%|████████████████████████████████████████████████████████████████████████████████| 391/391 [00:29<00:00, 13.46it/s]\n",
      "100%|████████████████████████████████████████████████████████████████████████████████| 391/391 [00:28<00:00, 13.73it/s]\n"
     ]
    },
    {
     "name": "stdout",
     "output_type": "stream",
     "text": [
      "--------testing--------\n",
      "prediction: tensor([4], device='cuda:0')\n",
      "not success :/\n",
      "\n",
      "before trainset length 50000\n",
      "\n",
      "---------generating poisoned samples--------\n",
      "\n"
     ]
    },
    {
     "name": "stderr",
     "output_type": "stream",
     "text": [
      "100%|██████████████████████████████████████████████████████████████████████████████████| 25/25 [04:31<00:00, 10.85s/it]\n"
     ]
    },
    {
     "name": "stdout",
     "output_type": "stream",
     "text": [
      "\n",
      "after trainset length 50025\n",
      "\n",
      "--------finetuning--------\n",
      "\n"
     ]
    },
    {
     "name": "stderr",
     "output_type": "stream",
     "text": [
      "100%|████████████████████████████████████████████████████████████████████████████████| 391/391 [00:31<00:00, 12.54it/s]\n",
      "100%|████████████████████████████████████████████████████████████████████████████████| 391/391 [00:28<00:00, 13.74it/s]\n",
      "100%|████████████████████████████████████████████████████████████████████████████████| 391/391 [00:28<00:00, 13.74it/s]\n",
      "100%|████████████████████████████████████████████████████████████████████████████████| 391/391 [00:28<00:00, 13.74it/s]\n",
      "100%|████████████████████████████████████████████████████████████████████████████████| 391/391 [00:30<00:00, 12.73it/s]\n",
      "100%|████████████████████████████████████████████████████████████████████████████████| 391/391 [00:28<00:00, 13.67it/s]\n",
      "100%|████████████████████████████████████████████████████████████████████████████████| 391/391 [00:28<00:00, 13.76it/s]\n",
      "100%|████████████████████████████████████████████████████████████████████████████████| 391/391 [00:28<00:00, 13.72it/s]\n",
      "100%|████████████████████████████████████████████████████████████████████████████████| 391/391 [00:28<00:00, 13.86it/s]\n",
      "100%|████████████████████████████████████████████████████████████████████████████████| 391/391 [00:28<00:00, 13.63it/s]\n"
     ]
    },
    {
     "name": "stdout",
     "output_type": "stream",
     "text": [
      "--------testing--------\n",
      "prediction: tensor([3], device='cuda:0')\n",
      "success!!\n",
      "\n",
      "before trainset length 50000\n",
      "\n",
      "---------generating poisoned samples--------\n",
      "\n"
     ]
    },
    {
     "name": "stderr",
     "output_type": "stream",
     "text": [
      "100%|██████████████████████████████████████████████████████████████████████████████████| 50/50 [09:01<00:00, 10.82s/it]\n"
     ]
    },
    {
     "name": "stdout",
     "output_type": "stream",
     "text": [
      "\n",
      "after trainset length 50050\n",
      "\n",
      "--------finetuning--------\n",
      "\n"
     ]
    },
    {
     "name": "stderr",
     "output_type": "stream",
     "text": [
      "100%|████████████████████████████████████████████████████████████████████████████████| 392/392 [00:29<00:00, 13.46it/s]\n",
      "100%|████████████████████████████████████████████████████████████████████████████████| 392/392 [00:28<00:00, 13.59it/s]\n",
      "100%|████████████████████████████████████████████████████████████████████████████████| 392/392 [00:29<00:00, 13.32it/s]\n",
      "100%|████████████████████████████████████████████████████████████████████████████████| 392/392 [00:28<00:00, 13.75it/s]\n",
      "100%|████████████████████████████████████████████████████████████████████████████████| 392/392 [00:28<00:00, 13.70it/s]\n",
      "100%|████████████████████████████████████████████████████████████████████████████████| 392/392 [00:29<00:00, 13.13it/s]\n",
      "100%|████████████████████████████████████████████████████████████████████████████████| 392/392 [00:28<00:00, 13.57it/s]\n",
      "100%|████████████████████████████████████████████████████████████████████████████████| 392/392 [00:28<00:00, 13.79it/s]\n",
      "100%|████████████████████████████████████████████████████████████████████████████████| 392/392 [00:28<00:00, 13.69it/s]\n",
      "100%|████████████████████████████████████████████████████████████████████████████████| 392/392 [00:28<00:00, 13.68it/s]\n"
     ]
    },
    {
     "name": "stdout",
     "output_type": "stream",
     "text": [
      "--------testing--------\n",
      "prediction: tensor([3], device='cuda:0')\n",
      "success!!\n",
      "\n",
      "before trainset length 50000\n",
      "\n",
      "---------generating poisoned samples--------\n",
      "\n"
     ]
    },
    {
     "name": "stderr",
     "output_type": "stream",
     "text": [
      "100%|████████████████████████████████████████████████████████████████████████████████| 100/100 [18:02<00:00, 10.82s/it]\n"
     ]
    },
    {
     "name": "stdout",
     "output_type": "stream",
     "text": [
      "\n",
      "after trainset length 50100\n",
      "\n",
      "--------finetuning--------\n",
      "\n"
     ]
    },
    {
     "name": "stderr",
     "output_type": "stream",
     "text": [
      "100%|████████████████████████████████████████████████████████████████████████████████| 392/392 [00:28<00:00, 13.74it/s]\n",
      "100%|████████████████████████████████████████████████████████████████████████████████| 392/392 [00:28<00:00, 13.66it/s]\n",
      "100%|████████████████████████████████████████████████████████████████████████████████| 392/392 [00:28<00:00, 13.78it/s]\n",
      "100%|████████████████████████████████████████████████████████████████████████████████| 392/392 [00:28<00:00, 13.69it/s]\n",
      "100%|████████████████████████████████████████████████████████████████████████████████| 392/392 [00:28<00:00, 13.85it/s]\n",
      "100%|████████████████████████████████████████████████████████████████████████████████| 392/392 [00:28<00:00, 13.80it/s]\n",
      "100%|████████████████████████████████████████████████████████████████████████████████| 392/392 [00:28<00:00, 13.86it/s]\n",
      "100%|████████████████████████████████████████████████████████████████████████████████| 392/392 [00:30<00:00, 12.88it/s]\n",
      "100%|████████████████████████████████████████████████████████████████████████████████| 392/392 [00:28<00:00, 13.58it/s]\n",
      "100%|████████████████████████████████████████████████████████████████████████████████| 392/392 [00:28<00:00, 13.77it/s]"
     ]
    },
    {
     "name": "stdout",
     "output_type": "stream",
     "text": [
      "--------testing--------\n",
      "prediction: tensor([3], device='cuda:0')\n",
      "success!!\n"
     ]
    },
    {
     "name": "stderr",
     "output_type": "stream",
     "text": [
      "\n"
     ]
    }
   ],
   "source": [
    "dict = {}\n",
    "\n",
    "for taridx in deer_indices:    \n",
    "    #print(f\"sample from deer class with index: {taridx}\")\n",
    "    dict[f'Deer_{taridx}'] = {'K': [], 'attack': []}\n",
    "    for k in K:# list of number of required poisoned samples\n",
    "        #renewing the dataset\n",
    "        #print(\"\\nk:\",k)\n",
    "        dict[f'Deer_{taridx}']['K'].append(k)\n",
    "        train_cifar10_dataset = finetunetrainset.copy()\n",
    "        print(\"\\nbefore trainset length\",len(train_cifar10_dataset))\n",
    "        model_finetune = models.resnet18(pretrained=False)\n",
    "        model_finetune.fc = nn.Linear(model_finetune.fc.in_features, 10)\n",
    "        model_finetune.to(device)\n",
    "\n",
    "        model_finetune.load_state_dict(torch.load('resnet18_cifar10_p.pth'))#loading the pretrained weight.\n",
    "\n",
    "        print(\"\\n---------generating poisoned samples--------\\n\")\n",
    "        for baseidx in tqdm(cat_indices[:k]):##datacreation part\n",
    "            baseinput,target = modified_cifar10_dataset[baseidx]\n",
    "            temp = baseinput.clone()\n",
    "            baseinput = baseinput.requires_grad_()\n",
    "            Tfeature=feature_extract(modified_cifar10_dataset[taridx][0].view(-1,3,32,32).to(device)).detach()\n",
    "            for iter in (range(max_iter)):\n",
    "                Bfeature=feature_extract(baseinput.view(-1,3,32,32).to(device))\n",
    "                loss = torch.norm(Bfeature-Tfeature,p=2)\n",
    "                gradient = torch.autograd.grad(loss, baseinput)\n",
    "                baseinput = baseinput-LR*gradient[0] #forward process\n",
    "                baseinput = (baseinput + LR*beta*temp)/(1+LR*beta)\n",
    "            train_cifar10_dataset.append((baseinput.detach(),target))\n",
    "\n",
    "        print(\"\\nafter trainset length\",len(train_cifar10_dataset))\n",
    "        finetune_loader = DataLoader(train_cifar10_dataset, batch_size=BS, shuffle=True, num_workers=4)\n",
    "        criterion = nn.CrossEntropyLoss()\n",
    "        optimizer = optim.Adam(model_finetune.parameters(), lr=0.01, weight_decay=0)\n",
    "\n",
    "        ##freezing the other layers\n",
    "        for name, param in model_finetune.named_parameters():\n",
    "            if \"fc\" in name:  # Assuming the fully connected layer is named \"fc\"\n",
    "                param.requires_grad = True\n",
    "            else:\n",
    "                param.requires_grad = False\n",
    "\n",
    "        #finetuning loop\n",
    "        print(\"\\n--------finetuning--------\\n\")\n",
    "        for epoch in range(number_epochs):\n",
    "            model_finetune.train()\n",
    "            running_loss = 0.0\n",
    "            for inputs, labels in tqdm(finetune_loader):\n",
    "                inputs, labels = inputs.cuda(), labels.to(device) # Move data to GPU\n",
    "                optimizer.zero_grad()\n",
    "                outputs = model_finetune(inputs)\n",
    "                loss = criterion(outputs, labels)\n",
    "                loss.backward()\n",
    "                optimizer.step()\n",
    "                running_loss += loss.item()\n",
    "\n",
    "            #print(f'Epoch {epoch + 1}/{number_epochs}, Loss: {running_loss / len(finetune_loader)}')\n",
    "\n",
    "        ##testing loop\n",
    "        print(\"--------testing--------\")\n",
    "        model_finetune.eval()\n",
    "        pred = model_finetune(modified_cifar10_dataset[taridx][0].view(-1,3,32,32).to(device))\n",
    "        _,pred=torch.max(pred, 1)\n",
    "        print(\"prediction:\",pred)\n",
    "        if pred==3:## class of cats!\n",
    "            dict[f'Deer_{taridx}']['attack'].append(\"success\")\n",
    "            print(\"success!!\")\n",
    "        else:\n",
    "            dict[f'Deer_{taridx}']['attack'].append(\"not success\")\n",
    "            print(\"not success :/\")\n",
    "\n",
    "\n"
   ]
  },
  {
   "cell_type": "code",
   "execution_count": 20,
   "metadata": {},
   "outputs": [
    {
     "data": {
      "text/plain": [
       "{'Deer_22': {'K': [1, 5, 10, 25, 50, 100],\n",
       "  'attack': ['not success',\n",
       "   'not success',\n",
       "   'not success',\n",
       "   'not success',\n",
       "   'success',\n",
       "   'success']},\n",
       " 'Deer_26': {'K': [1, 5, 10, 25, 50, 100],\n",
       "  'attack': ['not success',\n",
       "   'not success',\n",
       "   'not success',\n",
       "   'success',\n",
       "   'success',\n",
       "   'success']},\n",
       " 'Deer_32': {'K': [1, 5, 10, 25, 50, 100],\n",
       "  'attack': ['not success',\n",
       "   'not success',\n",
       "   'not success',\n",
       "   'success',\n",
       "   'success',\n",
       "   'success']},\n",
       " 'Deer_36': {'K': [1, 5, 10, 25, 50, 100],\n",
       "  'attack': ['not success',\n",
       "   'not success',\n",
       "   'not success',\n",
       "   'success',\n",
       "   'success',\n",
       "   'success']},\n",
       " 'Deer_40': {'K': [1, 5, 10, 25, 50, 100],\n",
       "  'attack': ['not success',\n",
       "   'not success',\n",
       "   'not success',\n",
       "   'success',\n",
       "   'success',\n",
       "   'success']}}"
      ]
     },
     "execution_count": 20,
     "metadata": {},
     "output_type": "execute_result"
    }
   ],
   "source": [
    "dict"
   ]
  }
 ],
 "metadata": {
  "kernelspec": {
   "display_name": "Python 3 (ipykernel)",
   "language": "python",
   "name": "python3"
  },
  "language_info": {
   "codemirror_mode": {
    "name": "ipython",
    "version": 3
   },
   "file_extension": ".py",
   "mimetype": "text/x-python",
   "name": "python",
   "nbconvert_exporter": "python",
   "pygments_lexer": "ipython3",
   "version": "3.9.12"
  }
 },
 "nbformat": 4,
 "nbformat_minor": 2
}
